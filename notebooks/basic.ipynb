{
 "cells": [
  {
   "cell_type": "markdown",
   "metadata": {},
   "source": [
    "Mainly standard library."
   ]
  },
  {
   "cell_type": "markdown",
   "metadata": {
    "heading_collapsed": true
   },
   "source": [
    "# Decorators"
   ]
  },
  {
   "cell_type": "markdown",
   "metadata": {
    "heading_collapsed": true,
    "hidden": true
   },
   "source": [
    "#### Basic"
   ]
  },
  {
   "cell_type": "code",
   "execution_count": 58,
   "metadata": {
    "hidden": true
   },
   "outputs": [
    {
     "name": "stdout",
     "output_type": "stream",
     "text": [
      "I am the function which needs some decoration to remove my foul smell\n"
     ]
    }
   ],
   "source": [
    "def a_new_decorator(a_func):\n",
    "\n",
    "    def wrapTheFunction():\n",
    "        print(\"I am doing some boring work before executing a_func()\")\n",
    "\n",
    "        a_func()\n",
    "\n",
    "        print(\"I am doing some boring work after executing a_func()\")\n",
    "\n",
    "    return wrapTheFunction\n",
    "\n",
    "def a_function_requiring_decoration():\n",
    "    print(\"I am the function which needs some decoration to remove my foul smell\")\n",
    "\n",
    "a_function_requiring_decoration()\n",
    "#outputs: \"I am the function which needs some decoration to remove my foul smell\""
   ]
  },
  {
   "cell_type": "code",
   "execution_count": 59,
   "metadata": {
    "hidden": true
   },
   "outputs": [
    {
     "name": "stdout",
     "output_type": "stream",
     "text": [
      "I am doing some boring work before executing a_func()\n",
      "I am the function which needs some decoration to remove my foul smell\n",
      "I am doing some boring work after executing a_func()\n"
     ]
    }
   ],
   "source": [
    "a_function_requiring_decoration = a_new_decorator(a_function_requiring_decoration)\n",
    "#now a_function_requiring_decoration is wrapped by wrapTheFunction()\n",
    "\n",
    "a_function_requiring_decoration()\n",
    "#outputs:I am doing some boring work before executing a_func()\n",
    "#        I am the function which needs some decoration to remove my foul smell\n",
    "#        I am doing some boring work after executing a_func()"
   ]
  },
  {
   "cell_type": "code",
   "execution_count": 28,
   "metadata": {
    "hidden": true
   },
   "outputs": [],
   "source": [
    "def decor(func):\n",
    "    def wrapper(*args, **kwargs):\n",
    "        print('wrap start')\n",
    "        value = func(*args, **kwargs)\n",
    "        print('wrap end')\n",
    "        return value\n",
    "    return wrapper"
   ]
  },
  {
   "cell_type": "markdown",
   "metadata": {
    "heading_collapsed": true,
    "hidden": true
   },
   "source": [
    "#### Decorators with arguments"
   ]
  },
  {
   "cell_type": "code",
   "execution_count": 93,
   "metadata": {
    "hidden": true
   },
   "outputs": [
    {
     "name": "stdout",
     "output_type": "stream",
     "text": [
      "Congratulations.  You decorated a function that does something with arg1 and argss2\n",
      "a\n",
      "b\n"
     ]
    }
   ],
   "source": [
    "def decorator(arg1, arg2):\n",
    "\n",
    "    def real_decorator(function):\n",
    "\n",
    "        def wrapper(*args, **kwargs):\n",
    "            print(\"Congratulations.  You decorated a function that does something with %s and %s\" % (arg1, arg2))\n",
    "            function(*args, **kwargs)\n",
    "        return wrapper\n",
    "\n",
    "    return real_decorator\n",
    "\n",
    "\n",
    "@decorator(\"arg1\", \"arg2\")\n",
    "def print_args(*args):\n",
    "    for arg in args:\n",
    "        print(arg)\n",
    "        \n",
    "print_args('a', 'b')"
   ]
  },
  {
   "cell_type": "markdown",
   "metadata": {
    "hidden": true
   },
   "source": [
    "#### Role of functools.wraps"
   ]
  },
  {
   "cell_type": "markdown",
   "metadata": {
    "heading_collapsed": true,
    "hidden": true
   },
   "source": [
    "#### Problem"
   ]
  },
  {
   "cell_type": "markdown",
   "metadata": {
    "hidden": true
   },
   "source": [
    "SOLVED by using @traced instead."
   ]
  },
  {
   "cell_type": "code",
   "execution_count": 48,
   "metadata": {
    "hidden": true
   },
   "outputs": [],
   "source": [
    "from autologging import logged\n",
    "import functools\n",
    "\n",
    "@logged\n",
    "def debug(func):\n",
    "    \"\"\"\n",
    "    Print a message when func is called \n",
    "    and once it is finished.\n",
    "    \"\"\"\n",
    "    @functools.wraps(func)\n",
    "    def wrapper_debug(*args, **kwargs):\n",
    "        print('I am a wrapper of ' + func.__name__)\n",
    "#         func._log.debug('started ' + func.__name__)\n",
    "        func(*args, **kwargs)\n",
    "    return wrapper_debug"
   ]
  },
  {
   "cell_type": "code",
   "execution_count": 49,
   "metadata": {
    "hidden": true
   },
   "outputs": [],
   "source": [
    "@debug\n",
    "@logged\n",
    "def foo():\n",
    "    foo._log.warning('I am foo')"
   ]
  },
  {
   "cell_type": "code",
   "execution_count": 50,
   "metadata": {
    "hidden": true
   },
   "outputs": [
    {
     "name": "stderr",
     "output_type": "stream",
     "text": [
      "WARNING:<ipython-input-49-1fce18e6698d>,4:__main__.foo:I am foo\n"
     ]
    },
    {
     "name": "stdout",
     "output_type": "stream",
     "text": [
      "I am a wrapper of foo\n"
     ]
    }
   ],
   "source": [
    "foo()"
   ]
  },
  {
   "cell_type": "markdown",
   "metadata": {
    "heading_collapsed": true,
    "hidden": true
   },
   "source": [
    "#### Autologging"
   ]
  },
  {
   "cell_type": "code",
   "execution_count": 19,
   "metadata": {
    "hidden": true
   },
   "outputs": [
    {
     "name": "stderr",
     "output_type": "stream",
     "text": [
      "TRACE:<ipython-input-19-9cc684c1b1a2>,10:__main__.Example.__init__:CALL *() **{}\n",
      "INFO:<ipython-input-19-9cc684c1b1a2>,11:__main__.Example.__init__:initialized\n",
      "TRACE:<ipython-input-19-9cc684c1b1a2>,10:__main__.Example.__init__:RETURN None\n",
      "TRACE:<ipython-input-19-9cc684c1b1a2>,13:__main__.Example.backwards:CALL *('spam', 'eggs') **{}\n",
      "TRACE:<ipython-input-19-9cc684c1b1a2>,13:__main__.Example.backwards:RETURN <generator object backwards at 0x7f9e5853efc0>\n",
      "TRACE:<ipython-input-19-9cc684c1b1a2>,15:__main__.Example.backwards:YIELD <generator object backwards at 0x7f9e5853efc0> 'maps'\n",
      "TRACE:<ipython-input-19-9cc684c1b1a2>,15:__main__.Example.backwards:YIELD <generator object backwards at 0x7f9e5853efc0> 'sgge'\n",
      "TRACE:<ipython-input-19-9cc684c1b1a2>,13:__main__.Example.backwards:STOP <generator object backwards at 0x7f9e5853efc0>\n"
     ]
    },
    {
     "name": "stdout",
     "output_type": "stream",
     "text": [
      "maps\n",
      "sgge\n"
     ]
    }
   ],
   "source": [
    "import logging\n",
    "import sys\n",
    "\n",
    "from autologging import logged, TRACE, traced\n",
    "\n",
    "@traced\n",
    "@logged\n",
    "class Example:\n",
    "\n",
    "    def __init__(self):\n",
    "        self.__log.info(\"initialized\")\n",
    "\n",
    "    def backwards(self, *words):\n",
    "        for word in words:\n",
    "            yield \"\".join(reversed(word))\n",
    "\n",
    "\n",
    "if __name__ == \"__main__\":\n",
    "    logging.basicConfig(\n",
    "            level=TRACE, stream=sys.stderr,\n",
    "            format=\"%(levelname)s:%(filename)s,%(lineno)d:%(name)s.%(funcName)s:%(message)s\")\n",
    "    example = Example()\n",
    "    for result in example.backwards(\"spam\", \"eggs\"):\n",
    "        print(result)"
   ]
  },
  {
   "cell_type": "code",
   "execution_count": 18,
   "metadata": {
    "hidden": true
   },
   "outputs": [
    {
     "name": "stdout",
     "output_type": "stream",
     "text": [
      "Calling decorated function\n",
      "Called example function\n",
      "example\n",
      "Docstring\n"
     ]
    }
   ],
   "source": [
    "from functools import wraps\n",
    "\n",
    "def my_decorator(f):\n",
    "    @wraps(f)\n",
    "    def wrapper(*args, **kwds):\n",
    "        print('Calling decorated function')\n",
    "        return f(*args, **kwds)\n",
    "    return wrapper\n",
    "\n",
    "@my_decorator\n",
    "def example():\n",
    "    \"\"\"Docstring\"\"\"\n",
    "    print('Called example function')\n",
    "\n",
    "example()\n",
    "print(example.__name__)\n",
    "print(example.__doc__)"
   ]
  },
  {
   "cell_type": "markdown",
   "metadata": {
    "heading_collapsed": true,
    "hidden": true
   },
   "source": [
    "#### In class"
   ]
  },
  {
   "cell_type": "code",
   "execution_count": 12,
   "metadata": {
    "hidden": true
   },
   "outputs": [
    {
     "name": "stdout",
     "output_type": "stream",
     "text": [
      "1.3620592653751373e-06\n",
      "John Doe\n"
     ]
    }
   ],
   "source": [
    "def timer(func):\n",
    "    def func_wrapper(*args, **kwargs):\n",
    "        import time\n",
    "    \n",
    "        start_time = time.perf_counter()\n",
    "        value = func(*args, **kwargs)\n",
    "        end_time = time.perf_counter()   \n",
    "        print(str(end_time-start_time))\n",
    "        return value\n",
    "    return func_wrapper\n",
    "\n",
    "class Person(object):\n",
    "    def __init__(self):\n",
    "        self.name = \"John\"\n",
    "        self.family = \"Doe\"\n",
    "\n",
    "    @timer\n",
    "    def get_fullname(self):\n",
    "        return self.name+\" \"+self.family\n",
    "\n",
    "my_person = Person()\n",
    "\n",
    "print(my_person.get_fullname())"
   ]
  },
  {
   "cell_type": "markdown",
   "metadata": {
    "heading_collapsed": true,
    "hidden": true
   },
   "source": [
    "#### ..."
   ]
  },
  {
   "cell_type": "code",
   "execution_count": 70,
   "metadata": {
    "hidden": true
   },
   "outputs": [],
   "source": [
    "def my_decorator(func):\n",
    "    def wrapper():\n",
    "        print(\"Something is happening before the function is called.\")\n",
    "        func()\n",
    "        print(\"Something is happening after the function is called.\")\n",
    "    return wrapper\n",
    "\n",
    "def say_whee():\n",
    "    print(\"Whee!\")\n",
    "\n",
    "say_whee = my_decorator(say_whee)"
   ]
  },
  {
   "cell_type": "code",
   "execution_count": 72,
   "metadata": {
    "hidden": true
   },
   "outputs": [
    {
     "data": {
      "text/plain": [
       "<function __main__.my_decorator.<locals>.wrapper()>"
      ]
     },
     "execution_count": 72,
     "metadata": {},
     "output_type": "execute_result"
    }
   ],
   "source": [
    "say_whee"
   ]
  },
  {
   "cell_type": "code",
   "execution_count": 71,
   "metadata": {
    "hidden": true
   },
   "outputs": [
    {
     "name": "stdout",
     "output_type": "stream",
     "text": [
      "Something is happening before the function is called.\n",
      "Whee!\n",
      "Something is happening after the function is called.\n"
     ]
    }
   ],
   "source": [
    "say_whee()"
   ]
  },
  {
   "cell_type": "code",
   "execution_count": 76,
   "metadata": {
    "hidden": true
   },
   "outputs": [
    {
     "ename": "SyntaxError",
     "evalue": "invalid syntax (<ipython-input-76-1f5b7ac21fc6>, line 8)",
     "output_type": "error",
     "traceback": [
      "\u001b[0;36m  File \u001b[0;32m\"<ipython-input-76-1f5b7ac21fc6>\"\u001b[0;36m, line \u001b[0;32m8\u001b[0m\n\u001b[0;31m    kwargs_repr = [f\"{k}={v!r}\" for k, v in kwargs.items()]  # 2\u001b[0m\n\u001b[0m                              ^\u001b[0m\n\u001b[0;31mSyntaxError\u001b[0m\u001b[0;31m:\u001b[0m invalid syntax\n"
     ]
    }
   ],
   "source": [
    "import functools\n",
    "\n",
    "def debug(func):\n",
    "    \"\"\"Print the function signature and return value\"\"\"\n",
    "    @functools.wraps(func) #Now func is still itself (introsp.) after decoration.\n",
    "    def wrapper_debug(*args, **kwargs):\n",
    "        args_repr = [repr(a) for a in args]                      # 1\n",
    "        kwargs_repr = [f\"{k}={v!r}\" for k, v in kwargs.items()]  # 2\n",
    "        signature = \", \".join(args_repr + kwargs_repr)           # 3\n",
    "        print(f\"Calling {func.__name__}({signature})\")\n",
    "        value = func(*args, **kwargs)\n",
    "        print(\"%s returned %s\") % (func.__name__, value)          # 4\n",
    "        return value\n",
    "    return wrapper_debug"
   ]
  },
  {
   "cell_type": "code",
   "execution_count": 86,
   "metadata": {
    "hidden": true,
    "run_control": {
     "marked": false
    }
   },
   "outputs": [],
   "source": [
    "import functools\n",
    "import time\n",
    "\n",
    "def timer(func):\n",
    "    \"\"\"Print the runtime of the decorated function\"\"\"\n",
    "    @functools.wraps(func)\n",
    "    def wrapper_timer(*args, **kwargs):\n",
    "        start_time = time.perf_counter()    # 1\n",
    "        value = func(*args, **kwargs)\n",
    "        end_time = time.perf_counter()      # 2\n",
    "        run_time = end_time - start_time    # 3\n",
    "        print(func.__name__, run_time)\n",
    "        return value\n",
    "    return wrapper_timer\n",
    "\n",
    "@timer\n",
    "def waste_some_time(num_times):\n",
    "    for _ in range(num_times):\n",
    "        sum([i**2 for i in range(10000)])"
   ]
  },
  {
   "cell_type": "code",
   "execution_count": 87,
   "metadata": {
    "hidden": true
   },
   "outputs": [
    {
     "name": "stdout",
     "output_type": "stream",
     "text": [
      "waste_some_time 0.04284542100504041\n"
     ]
    }
   ],
   "source": [
    "waste_some_time(10)"
   ]
  },
  {
   "cell_type": "code",
   "execution_count": null,
   "metadata": {
    "hidden": true
   },
   "outputs": [],
   "source": [
    "import math\n",
    "from decorators import debug\n",
    "\n",
    "# Apply a decorator to a standard library function\n",
    "math.factorial = debug(math.factorial)\n",
    "\n",
    "def approximate_e(terms=18):\n",
    "    return sum(1 / math.factorial(n) for n in range(terms))"
   ]
  },
  {
   "cell_type": "markdown",
   "metadata": {
    "heading_collapsed": true
   },
   "source": [
    "# Iterators"
   ]
  },
  {
   "cell_type": "code",
   "execution_count": 8,
   "metadata": {
    "hidden": true
   },
   "outputs": [
    {
     "data": {
      "text/plain": [
       "55"
      ]
     },
     "execution_count": 8,
     "metadata": {},
     "output_type": "execute_result"
    }
   ],
   "source": [
    "l = iter([1,2,3])\n",
    "next(l)\n",
    "next(l)\n",
    "next(l)\n",
    "next(l, 55) # LIST ENDED, PRINT DEFAULT INSTEAD!"
   ]
  },
  {
   "cell_type": "markdown",
   "metadata": {
    "heading_collapsed": true
   },
   "source": [
    "# Function arguments"
   ]
  },
  {
   "cell_type": "code",
   "execution_count": 7,
   "metadata": {
    "hidden": true
   },
   "outputs": [
    {
     "ename": "TypeError",
     "evalue": "foo() got multiple values for keyword argument 'a'",
     "output_type": "error",
     "traceback": [
      "\u001b[0;31m---------------------------------------------------------------------------\u001b[0m",
      "\u001b[0;31mTypeError\u001b[0m                                 Traceback (most recent call last)",
      "\u001b[0;32m<ipython-input-7-6852d396e94f>\u001b[0m in \u001b[0;36m<module>\u001b[0;34m()\u001b[0m\n\u001b[1;32m      3\u001b[0m \u001b[0;34m\u001b[0m\u001b[0m\n\u001b[1;32m      4\u001b[0m \u001b[0ma\u001b[0m \u001b[0;34m=\u001b[0m \u001b[0;36m1\u001b[0m\u001b[0;34m\u001b[0m\u001b[0m\n\u001b[0;32m----> 5\u001b[0;31m \u001b[0mfoo\u001b[0m\u001b[0;34m(\u001b[0m\u001b[0ma\u001b[0m\u001b[0;34m,\u001b[0m \u001b[0ma\u001b[0m\u001b[0;34m=\u001b[0m\u001b[0ma\u001b[0m\u001b[0;34m)\u001b[0m\u001b[0;34m\u001b[0m\u001b[0m\n\u001b[0m",
      "\u001b[0;31mTypeError\u001b[0m: foo() got multiple values for keyword argument 'a'"
     ]
    }
   ],
   "source": [
    "def foo(a, **kwargs):\n",
    "    print a\n",
    "\n",
    "a = 1\n",
    "foo(a, a=a)"
   ]
  },
  {
   "cell_type": "code",
   "execution_count": 14,
   "metadata": {
    "hidden": true
   },
   "outputs": [
    {
     "ename": "SyntaxError",
     "evalue": "invalid syntax (<ipython-input-14-9dcd5b1255ad>, line 1)",
     "output_type": "error",
     "traceback": [
      "\u001b[0;36m  File \u001b[0;32m\"<ipython-input-14-9dcd5b1255ad>\"\u001b[0;36m, line \u001b[0;32m1\u001b[0m\n\u001b[0;31m    def foo(a1, a2=0, *args=0, **kwargs):\u001b[0m\n\u001b[0m                           ^\u001b[0m\n\u001b[0;31mSyntaxError\u001b[0m\u001b[0;31m:\u001b[0m invalid syntax\n"
     ]
    }
   ],
   "source": [
    "def foo(a1, a2=0, *args=0, **kwargs):\n",
    "    print 'a1', a1\n",
    "    print 'a2', a2\n",
    "    print 'args', args\n",
    "    print 'kwargs', kwargs\n",
    "    return\n",
    "\n",
    "foo(1, 2, 3, 4)"
   ]
  },
  {
   "cell_type": "code",
   "execution_count": 2,
   "metadata": {
    "collapsed": true,
    "hidden": true
   },
   "outputs": [],
   "source": [
    "def foo(arg1, arg2, *args):\n",
    "    print arg1\n",
    "    print arg2\n",
    "    print args\n",
    "    return"
   ]
  },
  {
   "cell_type": "code",
   "execution_count": 4,
   "metadata": {
    "hidden": true
   },
   "outputs": [
    {
     "name": "stdout",
     "output_type": "stream",
     "text": [
      "1\n",
      "2\n",
      "(3, 4, 5)\n"
     ]
    }
   ],
   "source": [
    "foo(1, 2, 3, 4, 5)"
   ]
  },
  {
   "cell_type": "code",
   "execution_count": 5,
   "metadata": {
    "hidden": true
   },
   "outputs": [
    {
     "ename": "SyntaxError",
     "evalue": "invalid syntax (<ipython-input-5-05010dd5f632>, line 1)",
     "output_type": "error",
     "traceback": [
      "\u001b[0;36m  File \u001b[0;32m\"<ipython-input-5-05010dd5f632>\"\u001b[0;36m, line \u001b[0;32m1\u001b[0m\n\u001b[0;31m    def foo(arg1, *args, arg2):\u001b[0m\n\u001b[0m                            ^\u001b[0m\n\u001b[0;31mSyntaxError\u001b[0m\u001b[0;31m:\u001b[0m invalid syntax\n"
     ]
    }
   ],
   "source": [
    "def foo(arg1, *args, arg2):\n",
    "    print arg1\n",
    "    print arg2\n",
    "    print args\n",
    "    return"
   ]
  },
  {
   "cell_type": "code",
   "execution_count": 7,
   "metadata": {
    "code_folding": [],
    "collapsed": true,
    "hidden": true
   },
   "outputs": [],
   "source": [
    "def foo(kwarg1=1):\n",
    "    print kwarg1\n",
    "    retur"
   ]
  },
  {
   "cell_type": "code",
   "execution_count": 10,
   "metadata": {
    "hidden": true
   },
   "outputs": [
    {
     "name": "stdout",
     "output_type": "stream",
     "text": [
      "bar\n",
      "2\n",
      "3\n"
     ]
    }
   ],
   "source": [
    "foo()\n",
    "foo(kwarg1=3)"
   ]
  },
  {
   "cell_type": "code",
   "execution_count": 11,
   "metadata": {
    "collapsed": true,
    "hidden": true
   },
   "outputs": [],
   "source": [
    "def foo(kwarg1=1, kwarg2=2):\n",
    "    print kwarg1\n",
    "    print kwarg2\n",
    "    return"
   ]
  },
  {
   "cell_type": "code",
   "execution_count": 14,
   "metadata": {
    "hidden": true
   },
   "outputs": [
    {
     "name": "stdout",
     "output_type": "stream",
     "text": [
      "1\n",
      "2\n"
     ]
    }
   ],
   "source": [
    "foo()"
   ]
  },
  {
   "cell_type": "code",
   "execution_count": 15,
   "metadata": {
    "hidden": true
   },
   "outputs": [
    {
     "name": "stdout",
     "output_type": "stream",
     "text": [
      "2\n",
      "2\n"
     ]
    }
   ],
   "source": [
    "foo(2)"
   ]
  },
  {
   "cell_type": "code",
   "execution_count": 16,
   "metadata": {
    "hidden": true
   },
   "outputs": [
    {
     "name": "stdout",
     "output_type": "stream",
     "text": [
      "3\n",
      "2\n"
     ]
    }
   ],
   "source": [
    "foo(kwarg1=3)"
   ]
  },
  {
   "cell_type": "code",
   "execution_count": 17,
   "metadata": {
    "hidden": true
   },
   "outputs": [
    {
     "name": "stdout",
     "output_type": "stream",
     "text": [
      "2\n",
      "2\n"
     ]
    }
   ],
   "source": [
    "foo(2, 2)"
   ]
  },
  {
   "cell_type": "code",
   "execution_count": 19,
   "metadata": {
    "hidden": true
   },
   "outputs": [
    {
     "ename": "SyntaxError",
     "evalue": "non-default argument follows default argument (<ipython-input-19-d3bf0da7d8c7>, line 1)",
     "output_type": "error",
     "traceback": [
      "\u001b[0;36m  File \u001b[0;32m\"<ipython-input-19-d3bf0da7d8c7>\"\u001b[0;36m, line \u001b[0;32m1\u001b[0m\n\u001b[0;31m    def foo(kwarg1=1, arg1, kwarg2=2):\u001b[0m\n\u001b[0;31mSyntaxError\u001b[0m\u001b[0;31m:\u001b[0m non-default argument follows default argument\n"
     ]
    }
   ],
   "source": [
    "def foo(kwarg1=1, arg1, kwarg2=2):\n",
    "    print kwarg1\n",
    "    print arg1\n",
    "    print kwarg2\n",
    "    return"
   ]
  },
  {
   "cell_type": "code",
   "execution_count": 21,
   "metadata": {
    "collapsed": true,
    "hidden": true
   },
   "outputs": [],
   "source": [
    "def foo(arg1, kwarg1=1, kwarg2=2):\n",
    "    print arg1\n",
    "    print kwarg1\n",
    "    print kwarg2\n",
    "    return"
   ]
  },
  {
   "cell_type": "code",
   "execution_count": 22,
   "metadata": {
    "hidden": true
   },
   "outputs": [
    {
     "ename": "TypeError",
     "evalue": "foo() takes at least 1 argument (0 given)",
     "output_type": "error",
     "traceback": [
      "\u001b[0;31m---------------------------------------------------------------------------\u001b[0m",
      "\u001b[0;31mTypeError\u001b[0m                                 Traceback (most recent call last)",
      "\u001b[0;32m<ipython-input-22-c19b6d9633cf>\u001b[0m in \u001b[0;36m<module>\u001b[0;34m()\u001b[0m\n\u001b[0;32m----> 1\u001b[0;31m \u001b[0mfoo\u001b[0m\u001b[0;34m(\u001b[0m\u001b[0;34m)\u001b[0m\u001b[0;34m\u001b[0m\u001b[0m\n\u001b[0m",
      "\u001b[0;31mTypeError\u001b[0m: foo() takes at least 1 argument (0 given)"
     ]
    }
   ],
   "source": [
    "foo()"
   ]
  },
  {
   "cell_type": "code",
   "execution_count": 23,
   "metadata": {
    "hidden": true
   },
   "outputs": [
    {
     "name": "stdout",
     "output_type": "stream",
     "text": [
      "1\n",
      "2\n",
      "3\n"
     ]
    }
   ],
   "source": [
    "foo(1, 2, 3)"
   ]
  },
  {
   "cell_type": "code",
   "execution_count": 53,
   "metadata": {
    "hidden": true
   },
   "outputs": [
    {
     "name": "stdout",
     "output_type": "stream",
     "text": [
      "vec(foo)\n",
      "foo start\n",
      "1\n",
      "(2,)\n",
      "{'a': [5, 6]}\n",
      "foo start\n",
      "1\n",
      "(2,)\n",
      "{'a': [5, 6]}\n"
     ]
    },
    {
     "data": {
      "text/plain": [
       "array(1)"
      ]
     },
     "execution_count": 53,
     "metadata": {},
     "output_type": "execute_result"
    }
   ],
   "source": [
    "def foo(x, *args, **kwargs):\n",
    "    print 'foo start'\n",
    "    print x\n",
    "    print args\n",
    "    print kwargs\n",
    "    return x**2\n",
    "\n",
    "# def foo2(x, *args, **kwargs):\n",
    "#     print x\n",
    "#     print args\n",
    "#     print kwargs\n",
    "#     print 'now foo'\n",
    "#     foo(x, *args, **kwargs)\n",
    "#     return\n",
    "\n",
    "vfoo = np.vectorize(foo)\n",
    "\n",
    "# print 'foo2'\n",
    "# foo2([1, 2], 3, a=[5,6])\n",
    "\n",
    "# print 'vfoo'\n",
    "# vfoo([1, 2], 3, a=[5,6])\n",
    "\n",
    "print 'vec(foo)'\n",
    "Vec(foo, 1, 2, a=[5,6])"
   ]
  },
  {
   "cell_type": "markdown",
   "metadata": {
    "heading_collapsed": true
   },
   "source": [
    "# Lists"
   ]
  },
  {
   "cell_type": "code",
   "execution_count": null,
   "metadata": {
    "hidden": true
   },
   "outputs": [],
   "source": [
    "# init empty\n",
    "a_list = list()\n",
    "a_dict = dict()"
   ]
  },
  {
   "cell_type": "code",
   "execution_count": null,
   "metadata": {
    "hidden": true
   },
   "outputs": [],
   "source": [
    "# Initialising a list filled with some number\n",
    "\n",
    "[0]*1000 # List of 1000 zeros \n",
    "[8.2]*1000 # List of 1000 8.2's"
   ]
  },
  {
   "cell_type": "markdown",
   "metadata": {
    "hidden": true
   },
   "source": [
    "#### Removing elements"
   ]
  },
  {
   "cell_type": "code",
   "execution_count": 8,
   "metadata": {
    "hidden": true
   },
   "outputs": [],
   "source": [
    "li = [0,1,2,3,4]"
   ]
  },
  {
   "cell_type": "code",
   "execution_count": 9,
   "metadata": {
    "hidden": true
   },
   "outputs": [
    {
     "data": {
      "text/plain": [
       "[0, 1, 3, 4]"
      ]
     },
     "execution_count": 9,
     "metadata": {},
     "output_type": "execute_result"
    }
   ],
   "source": [
    "l = [el for i, el in enumerate(li) if i != 2]\n",
    "l"
   ]
  },
  {
   "cell_type": "code",
   "execution_count": 4,
   "metadata": {
    "hidden": true
   },
   "outputs": [],
   "source": [
    "a = li.pop(2)"
   ]
  },
  {
   "cell_type": "code",
   "execution_count": null,
   "metadata": {
    "hidden": true
   },
   "outputs": [],
   "source": [
    "# li.remove(key)"
   ]
  },
  {
   "cell_type": "code",
   "execution_count": null,
   "metadata": {
    "hidden": true
   },
   "outputs": [],
   "source": []
  },
  {
   "cell_type": "markdown",
   "metadata": {
    "heading_collapsed": true,
    "hidden": true
   },
   "source": [
    "#### (Un)zipping"
   ]
  },
  {
   "cell_type": "markdown",
   "metadata": {
    "hidden": true
   },
   "source": [
    "All possible combinations are meant by zipping here. It is not Python's zip then."
   ]
  },
  {
   "cell_type": "code",
   "execution_count": 5,
   "metadata": {
    "hidden": true
   },
   "outputs": [
    {
     "name": "stdout",
     "output_type": "stream",
     "text": [
      "[[0, 0], [0, 1], [0, 2], [0, 3], [1, 0], [1, 1], [1, 2], [1, 3], [2, 0], [2, 1], [2, 2], [2, 3], [3, 0], [3, 1], [3, 2], [3, 3]]\n"
     ]
    }
   ],
   "source": [
    "# zip lists -> list of tuples\n",
    "n = 4\n",
    "X = range(n)\n",
    "Y = range(n)\n",
    "\n",
    "l = [] \n",
    "for i in range(len(X)):\n",
    "    for j in range(len(Y)):\n",
    "        l.append([X[i], Y[j]])\n",
    "\n",
    "print l\n",
    "# print zip(X, Y)"
   ]
  },
  {
   "cell_type": "code",
   "execution_count": 8,
   "metadata": {
    "hidden": true
   },
   "outputs": [
    {
     "name": "stdout",
     "output_type": "stream",
     "text": [
      "[0. 1. 2. 3.]\n",
      "[0. 1. 2. 3.]\n"
     ]
    }
   ],
   "source": [
    "x = np.zeros(n)\n",
    "y = np.zeros(n)\n",
    "a = 0\n",
    "for i in range(n):\n",
    "    x[i] = l[a][0]\n",
    "    for j in range(n):\n",
    "        if i == 1:\n",
    "            y[j] = l[a][1]\n",
    "        a = a + 1\n",
    "print x\n",
    "print y"
   ]
  },
  {
   "cell_type": "markdown",
   "metadata": {
    "heading_collapsed": true,
    "hidden": true
   },
   "source": [
    "#### Converting to string with a separator"
   ]
  },
  {
   "cell_type": "code",
   "execution_count": 1,
   "metadata": {
    "hidden": true
   },
   "outputs": [
    {
     "data": {
      "text/plain": [
       "'1,2,3'"
      ]
     },
     "execution_count": 1,
     "metadata": {},
     "output_type": "execute_result"
    }
   ],
   "source": [
    "','.join([str(i) for i in [1,2,3]])"
   ]
  },
  {
   "cell_type": "markdown",
   "metadata": {
    "heading_collapsed": true,
    "hidden": true
   },
   "source": [
    "#### Conditioning "
   ]
  },
  {
   "cell_type": "code",
   "execution_count": 1,
   "metadata": {
    "hidden": true
   },
   "outputs": [
    {
     "data": {
      "text/plain": [
       "True"
      ]
     },
     "execution_count": 1,
     "metadata": {},
     "output_type": "execute_result"
    }
   ],
   "source": [
    "items = [[1, 2, 0], [1, 2, 0], [1, 2, 0]]\n",
    "all(item[2] == 0 for item in items)"
   ]
  },
  {
   "cell_type": "code",
   "execution_count": 2,
   "metadata": {
    "hidden": true
   },
   "outputs": [
    {
     "data": {
      "text/plain": [
       "False"
      ]
     },
     "execution_count": 2,
     "metadata": {},
     "output_type": "execute_result"
    }
   ],
   "source": [
    "items = [[1, 2, 1], [1, 2, 0], [1, 2, 0]]\n",
    "all(item[2] == 0 for item in items)"
   ]
  },
  {
   "cell_type": "markdown",
   "metadata": {
    "heading_collapsed": true
   },
   "source": [
    "# Dicts"
   ]
  },
  {
   "cell_type": "code",
   "execution_count": 24,
   "metadata": {
    "hidden": true
   },
   "outputs": [
    {
     "name": "stdout",
     "output_type": "stream",
     "text": [
      "k1 1 2\n"
     ]
    }
   ],
   "source": [
    "d = {'k1': [1, 2]}\n",
    "for key, [v1, v2] in d.items():\n",
    "      print(key, v1, v2)"
   ]
  },
  {
   "cell_type": "code",
   "execution_count": null,
   "metadata": {
    "hidden": true
   },
   "outputs": [],
   "source": [
    "# merging"
   ]
  },
  {
   "cell_type": "code",
   "execution_count": 40,
   "metadata": {
    "hidden": true
   },
   "outputs": [
    {
     "data": {
      "text/plain": [
       "dict"
      ]
     },
     "execution_count": 40,
     "metadata": {},
     "output_type": "execute_result"
    }
   ],
   "source": [
    "x = {'a': 1, 'b': 2}\n",
    "y = {'b': 3, 'c': 4}\n",
    "z = {**x, **y}\n",
    "type(z)"
   ]
  },
  {
   "cell_type": "code",
   "execution_count": 33,
   "metadata": {
    "hidden": true
   },
   "outputs": [
    {
     "data": {
      "text/plain": [
       "{'a': 1, 'aaa': 2, 'b': 2}"
      ]
     },
     "execution_count": 33,
     "metadata": {},
     "output_type": "execute_result"
    }
   ],
   "source": [
    "{**x, **dict({'aaa': 2})}"
   ]
  },
  {
   "cell_type": "code",
   "execution_count": 30,
   "metadata": {
    "hidden": true
   },
   "outputs": [
    {
     "data": {
      "text/plain": [
       "('c', 4)"
      ]
     },
     "execution_count": 30,
     "metadata": {},
     "output_type": "execute_result"
    }
   ],
   "source": [
    "next(iter(z.items()))"
   ]
  },
  {
   "cell_type": "code",
   "execution_count": 116,
   "metadata": {
    "hidden": true
   },
   "outputs": [
    {
     "data": {
      "text/plain": [
       "(dict, {'a': 1, 'b': 3})"
      ]
     },
     "execution_count": 116,
     "metadata": {},
     "output_type": "execute_result"
    }
   ],
   "source": [
    "d = dict({(i, z[i]) for i in z.keys() if i in ['a', 'b']})\n",
    "type(d), d"
   ]
  },
  {
   "cell_type": "code",
   "execution_count": 112,
   "metadata": {
    "hidden": true
   },
   "outputs": [
    {
     "data": {
      "text/plain": [
       "{'a': 1, 'b': 3, 'c': 4}"
      ]
     },
     "execution_count": 112,
     "metadata": {},
     "output_type": "execute_result"
    }
   ],
   "source": []
  },
  {
   "cell_type": "markdown",
   "metadata": {
    "hidden": true
   },
   "source": [
    "#### Save to json"
   ]
  },
  {
   "cell_type": "code",
   "execution_count": null,
   "metadata": {
    "hidden": true
   },
   "outputs": [],
   "source": [
    "def save_json(fname, dictionary, **kwargs):\n",
    "  \"\"\"\n",
    "  Export a dictionary to a JSON file.  \n",
    "  \"\"\"\n",
    "  import json\n",
    "  with open(fname, 'w') as f:\n",
    "    json.dump(dictionary, f)"
   ]
  },
  {
   "cell_type": "markdown",
   "metadata": {
    "heading_collapsed": true
   },
   "source": [
    "# System commands"
   ]
  },
  {
   "cell_type": "code",
   "execution_count": 117,
   "metadata": {
    "hidden": true
   },
   "outputs": [
    {
     "name": "stdout",
     "output_type": "stream",
     "text": [
      "lib_generic.py/Cp:  \n"
     ]
    },
    {
     "data": {
      "text/plain": [
       "0"
      ]
     },
     "execution_count": 117,
     "metadata": {},
     "output_type": "execute_result"
    }
   ],
   "source": [
    "Cp('t1.txt', 't3.txt')"
   ]
  },
  {
   "cell_type": "code",
   "execution_count": 79,
   "metadata": {
    "hidden": true
   },
   "outputs": [
    {
     "data": {
      "text/plain": [
       "0"
      ]
     },
     "execution_count": 79,
     "metadata": {},
     "output_type": "execute_result"
    }
   ],
   "source": [
    "from subprocess import call, check_output\n",
    "call([\"touch\", \"test.txt\", \"&&\", \"echo\", \"hej\", \">>\", \"test.txt\"])"
   ]
  },
  {
   "cell_type": "code",
   "execution_count": 85,
   "metadata": {
    "hidden": true
   },
   "outputs": [
    {
     "name": "stdout",
     "output_type": "stream",
     "text": [
      "test2.txt\n",
      "\n"
     ]
    }
   ],
   "source": [
    "print check_output([\"echo\", \"test2.txt\"])"
   ]
  },
  {
   "cell_type": "markdown",
   "metadata": {
    "heading_collapsed": true
   },
   "source": [
    "# OOP"
   ]
  },
  {
   "cell_type": "markdown",
   "metadata": {
    "heading_collapsed": true,
    "hidden": true
   },
   "source": [
    "#### basic"
   ]
  },
  {
   "cell_type": "code",
   "execution_count": 30,
   "metadata": {
    "collapsed": true,
    "hidden": true
   },
   "outputs": [],
   "source": [
    "class A(object):\n",
    "    def Foo(self):\n",
    "        print 'A'\n",
    "        \n",
    "class B(object):\n",
    "    def Foo(self):\n",
    "        print 'B'\n",
    "\n",
    "class C(B, A):\n",
    "    def Foo(self):\n",
    "        super(C, self).Foo()\n",
    "        print 'C'\n",
    "        \n",
    "c = C"
   ]
  },
  {
   "cell_type": "code",
   "execution_count": 72,
   "metadata": {
    "hidden": true
   },
   "outputs": [
    {
     "name": "stdout",
     "output_type": "stream",
     "text": [
      "private hej\n"
     ]
    }
   ],
   "source": [
    "class Cl:\n",
    "    def __private(self, arg):\n",
    "        print 'private', arg\n",
    "        \n",
    "    def public(self, arg):\n",
    "         self.__private(arg)\n",
    "\n",
    "obj = Cl()\n",
    "\n",
    "obj.public('hej')"
   ]
  },
  {
   "cell_type": "code",
   "execution_count": 66,
   "metadata": {
    "hidden": true
   },
   "outputs": [
    {
     "name": "stdout",
     "output_type": "stream",
     "text": [
      "Model\n"
     ]
    }
   ],
   "source": [
    "from lib_class_fwi import Proj_File\n",
    "\n",
    "pname = 'proj1'\n",
    "pfile = Proj_File('TrueVp', pname, 'sgy', 'Model')\n",
    "print pfile.func_prefix"
   ]
  },
  {
   "cell_type": "code",
   "execution_count": null,
   "metadata": {
    "collapsed": true,
    "hidden": true
   },
   "outputs": [],
   "source": []
  },
  {
   "cell_type": "code",
   "execution_count": 150,
   "metadata": {
    "hidden": true
   },
   "outputs": [
    {
     "name": "stdout",
     "output_type": "stream",
     "text": [
      "Hello class\n"
     ]
    }
   ],
   "source": [
    "class test:\n",
    "    print 'Hello class'"
   ]
  },
  {
   "cell_type": "code",
   "execution_count": 151,
   "metadata": {
    "collapsed": true,
    "hidden": true
   },
   "outputs": [],
   "source": [
    "t = test()"
   ]
  },
  {
   "cell_type": "code",
   "execution_count": 176,
   "metadata": {
    "collapsed": true,
    "hidden": true
   },
   "outputs": [],
   "source": [
    "class throughput:\n",
    "    '''\n",
    "    When a class defines an __init__() method, \n",
    "    class instantiation automatically invokes __init__() \n",
    "    for the newly-created class instance. \n",
    "    '''\n",
    "    def __init__(self, mode):\n",
    "        self.mode = mode\n",
    "    \n",
    "    \n",
    "    def prepare():\n",
    "        print 'prepare ', mode\n",
    "    def plot():\n",
    "        print 'plot ', mode\n",
    "\n",
    "class project:\n",
    "    def __init__(self, name='Noname'):\n",
    "        self.name = name\n",
    "        self.input = throughput('input')\n",
    "        self.output = throughput('output')"
   ]
  },
  {
   "cell_type": "code",
   "execution_count": 177,
   "metadata": {
    "hidden": true
   },
   "outputs": [
    {
     "ename": "TypeError",
     "evalue": "prepare() takes no arguments (1 given)",
     "output_type": "error",
     "traceback": [
      "\u001b[0;31m---------------------------------------------------------------------------\u001b[0m",
      "\u001b[0;31mTypeError\u001b[0m                                 Traceback (most recent call last)",
      "\u001b[0;32m<ipython-input-177-2d130042bd49>\u001b[0m in \u001b[0;36m<module>\u001b[0;34m()\u001b[0m\n\u001b[1;32m      1\u001b[0m \u001b[0mp\u001b[0m \u001b[0;34m=\u001b[0m \u001b[0mproject\u001b[0m\u001b[0;34m(\u001b[0m\u001b[0;34m)\u001b[0m\u001b[0;34m\u001b[0m\u001b[0m\n\u001b[0;32m----> 2\u001b[0;31m \u001b[0mp\u001b[0m\u001b[0;34m.\u001b[0m\u001b[0minput\u001b[0m\u001b[0;34m.\u001b[0m\u001b[0mprepare\u001b[0m\u001b[0;34m(\u001b[0m\u001b[0;34m)\u001b[0m\u001b[0;34m\u001b[0m\u001b[0m\n\u001b[0m",
      "\u001b[0;31mTypeError\u001b[0m: prepare() takes no arguments (1 given)"
     ]
    }
   ],
   "source": [
    "p = project()\n",
    "p.input.prepare()"
   ]
  },
  {
   "cell_type": "markdown",
   "metadata": {
    "heading_collapsed": true,
    "hidden": true
   },
   "source": [
    "#### Polymorphism & inheritance"
   ]
  },
  {
   "cell_type": "code",
   "execution_count": 73,
   "metadata": {
    "hidden": true
   },
   "outputs": [
    {
     "name": "stdout",
     "output_type": "stream",
     "text": [
      "Missy: Meow!\n",
      "Mr. Mistoffelees: Meow!\n",
      "Lassie: Woof! Woof!\n"
     ]
    }
   ],
   "source": [
    "class Animal:\n",
    "    def __init__(self, name):    # Constructor of the class\n",
    "        self.name = name\n",
    "    def talk(self):              # Abstract method, defined by convention only\n",
    "        raise NotImplementedError(\"Subclass must implement abstract method\")\n",
    "\n",
    "class Cat(Animal):\n",
    "    def talk(self):\n",
    "        return 'Meow!'\n",
    "\n",
    "class Dog(Animal):\n",
    "    def talk(self):\n",
    "        return 'Woof! Woof!'\n",
    "\n",
    "animals = [Cat('Missy'),\n",
    "           Cat('Mr. Mistoffelees'),\n",
    "           Dog('Lassie')]\n",
    "\n",
    "for animal in animals:\n",
    "    print animal.name + ': ' + animal.talk()"
   ]
  },
  {
   "cell_type": "code",
   "execution_count": 92,
   "metadata": {
    "hidden": true
   },
   "outputs": [
    {
     "name": "stdout",
     "output_type": "stream",
     "text": [
      "I am a computer\n",
      "with a really shiny logo\n"
     ]
    }
   ],
   "source": [
    "class Computer(object):\n",
    "    def boot_message(self):\n",
    "        return 'I am a computer'\n",
    "\n",
    "class AppleComputer(Computer):\n",
    "    def boot_message(self):\n",
    "        super(AppleComputer, self).boot_message()\n",
    "        print 'with a really shiny logo'\n",
    "        return \n",
    "    \n",
    "pc = Computer()\n",
    "print pc.boot_message()\n",
    "mac = AppleComputer()\n",
    "mac.boot_message()"
   ]
  },
  {
   "cell_type": "code",
   "execution_count": 119,
   "metadata": {
    "hidden": true
   },
   "outputs": [
    {
     "name": "stdout",
     "output_type": "stream",
     "text": [
      "Family is important\n",
      "and I love being at home\n"
     ]
    }
   ],
   "source": [
    "class Parent(object):\n",
    "    def __init__(self):\n",
    "        print 'Family is important'\n",
    "\n",
    "class Child(Parent):\n",
    "    def __init__(self):\n",
    "        super(Child, self).__init__()\n",
    "        print 'and I love being at home'\n",
    "\n",
    "# M = Parent()\n",
    "s = Child()"
   ]
  },
  {
   "cell_type": "markdown",
   "metadata": {
    "heading_collapsed": true,
    "hidden": true
   },
   "source": [
    "#### classmethods can create troubles (see old bug in synout synerr fullwavepy)"
   ]
  },
  {
   "cell_type": "markdown",
   "metadata": {
    "hidden": true
   },
   "source": [
    "Through the self parameter, instance methods can freely access attributes and other methods on the same object. This gives them a lot of power when it comes to modifying an object’s state.\n",
    "\n",
    "Not only can they modify object state, instance methods can also access the class itself through the self.__class__ attribute. This means instance methods can also modify class state."
   ]
  },
  {
   "cell_type": "code",
   "execution_count": null,
   "metadata": {
    "hidden": true
   },
   "outputs": [],
   "source": [
    "class A(object):\n",
    "    def __init__(self, n):\n",
    "        self.n = n\n",
    "    def rep(self):\n",
    "        self.child = []\n",
    "        for i in range(10):\n",
    "            self.child.append(A(str(i)))\n",
    "    def pid(self):\n",
    "        print(id(self))\n",
    "\n",
    "p = A('par')\n",
    "print(p.n)\n",
    "p.rep()\n",
    "for ch in p.child:\n",
    "    print(ch.n, id(ch))\n",
    "    ch.pid()\n"
   ]
  },
  {
   "cell_type": "markdown",
   "metadata": {
    "heading_collapsed": true,
    "hidden": true
   },
   "source": [
    "#### '__new__' vs. '__init__'"
   ]
  },
  {
   "cell_type": "code",
   "execution_count": 4,
   "metadata": {
    "hidden": true
   },
   "outputs": [
    {
     "name": "stdout",
     "output_type": "stream",
     "text": [
      "Cls in __new__: <class '__main__.C'>\n",
      "Args in __new__: ('hello',)\n"
     ]
    },
    {
     "ename": "TypeError",
     "evalue": "object() takes no parameters",
     "output_type": "error",
     "traceback": [
      "\u001b[0;31m---------------------------------------------------------------------------\u001b[0m",
      "\u001b[0;31mTypeError\u001b[0m                                 Traceback (most recent call last)",
      "\u001b[0;32m<ipython-input-4-98dcb9edc2e1>\u001b[0m in \u001b[0;36m<module>\u001b[0;34m\u001b[0m\n\u001b[1;32m      8\u001b[0m         \u001b[0mprint\u001b[0m\u001b[0;34m(\u001b[0m\u001b[0;34m'type(self) in __init__:'\u001b[0m\u001b[0;34m,\u001b[0m \u001b[0mtype\u001b[0m\u001b[0;34m(\u001b[0m\u001b[0mself\u001b[0m\u001b[0;34m)\u001b[0m\u001b[0;34m)\u001b[0m\u001b[0;34m\u001b[0m\u001b[0m\n\u001b[1;32m      9\u001b[0m         \u001b[0mprint\u001b[0m\u001b[0;34m(\u001b[0m\u001b[0;34m'Args in __init__:'\u001b[0m\u001b[0;34m,\u001b[0m \u001b[0margs\u001b[0m\u001b[0;34m)\u001b[0m\u001b[0;34m\u001b[0m\u001b[0m\n\u001b[0;32m---> 10\u001b[0;31m \u001b[0mc\u001b[0m \u001b[0;34m=\u001b[0m \u001b[0mC\u001b[0m\u001b[0;34m(\u001b[0m\u001b[0;34m'hello'\u001b[0m\u001b[0;34m)\u001b[0m\u001b[0;34m\u001b[0m\u001b[0m\n\u001b[0m",
      "\u001b[0;32m<ipython-input-4-98dcb9edc2e1>\u001b[0m in \u001b[0;36m__new__\u001b[0;34m(cls, *args)\u001b[0m\n\u001b[1;32m      3\u001b[0m         \u001b[0mprint\u001b[0m\u001b[0;34m(\u001b[0m\u001b[0;34m'Cls in __new__:'\u001b[0m\u001b[0;34m,\u001b[0m \u001b[0mcls\u001b[0m\u001b[0;34m)\u001b[0m\u001b[0;34m\u001b[0m\u001b[0m\n\u001b[1;32m      4\u001b[0m         \u001b[0mprint\u001b[0m\u001b[0;34m(\u001b[0m\u001b[0;34m'Args in __new__:'\u001b[0m\u001b[0;34m,\u001b[0m \u001b[0margs\u001b[0m\u001b[0;34m)\u001b[0m\u001b[0;34m\u001b[0m\u001b[0m\n\u001b[0;32m----> 5\u001b[0;31m         \u001b[0;32mreturn\u001b[0m \u001b[0mobject\u001b[0m\u001b[0;34m.\u001b[0m\u001b[0m__new__\u001b[0m\u001b[0;34m(\u001b[0m\u001b[0mcls\u001b[0m\u001b[0;34m,\u001b[0m \u001b[0;34m*\u001b[0m\u001b[0margs\u001b[0m\u001b[0;34m)\u001b[0m\u001b[0;34m\u001b[0m\u001b[0m\n\u001b[0m\u001b[1;32m      6\u001b[0m \u001b[0;34m\u001b[0m\u001b[0m\n\u001b[1;32m      7\u001b[0m     \u001b[0;32mdef\u001b[0m \u001b[0m__init__\u001b[0m\u001b[0;34m(\u001b[0m\u001b[0mself\u001b[0m\u001b[0;34m,\u001b[0m \u001b[0;34m*\u001b[0m\u001b[0margs\u001b[0m\u001b[0;34m)\u001b[0m\u001b[0;34m:\u001b[0m\u001b[0;34m\u001b[0m\u001b[0m\n",
      "\u001b[0;31mTypeError\u001b[0m: object() takes no parameters"
     ]
    }
   ],
   "source": [
    "class C(object):\n",
    "    def __new__(cls, *args):\n",
    "        print('Cls in __new__:', cls)\n",
    "        print('Args in __new__:', args)\n",
    "        return object.__new__(cls, *args)\n",
    "\n",
    "    def __init__(self, *args):\n",
    "        print('type(self) in __init__:', type(self))\n",
    "        print('Args in __init__:', args)\n",
    "c = C('hello')        "
   ]
  },
  {
   "cell_type": "code",
   "execution_count": null,
   "metadata": {
    "hidden": true
   },
   "outputs": [],
   "source": [
    "class A(object):\n",
    "    def __new__(cls, child):\n",
    "        print('I am A')\n",
    "        if child == 1:\n",
    "            a = A1.__new__(cls)\n",
    "        else:\n",
    "            a = A2.__new__(cls)\n",
    "        \n",
    "        a.__init__(child)\n",
    "        return a\n",
    "        \n",
    "    def __init__(self, child):\n",
    "        print('initt')\n",
    "\n",
    "class A1(object):\n",
    "    def __init__():\n",
    "        print('I am A1')\n",
    "        \n",
    "class A2(object):\n",
    "    def __init__():\n",
    "        print('I am A2')"
   ]
  },
  {
   "cell_type": "markdown",
   "metadata": {
    "hidden": true
   },
   "source": [
    "#### Object of the class initialized within init of this class"
   ]
  },
  {
   "cell_type": "code",
   "execution_count": null,
   "metadata": {
    "hidden": true
   },
   "outputs": [],
   "source": [
    "# IMPOSSIBLE? NO! SEE BELOW!!!"
   ]
  },
  {
   "cell_type": "code",
   "execution_count": 58,
   "metadata": {
    "hidden": true
   },
   "outputs": [
    {
     "name": "stdout",
     "output_type": "stream",
     "text": [
      "<__main__.C object at 0x7f3134176780> C\n",
      "<__main__.C object at 0x7f3134176438> Cf\n"
     ]
    }
   ],
   "source": [
    "# THIS IS EXACTLY WHAT WE WANT!!! we reduced the entropy :)\n",
    "class A():\n",
    "    def __init__(self, create=True, suffix=''):\n",
    "        self.name = self.__class__.__name__ + suffix\n",
    "        if create:\n",
    "            self.f = self.__class__(create=False, suffix='f')\n",
    "class B(A):\n",
    "    pass\n",
    "class C(A):\n",
    "    pass\n",
    "\n",
    "c = C()\n",
    "print(c, c.name)\n",
    "print(c.f, c.f.name)"
   ]
  },
  {
   "cell_type": "code",
   "execution_count": 49,
   "metadata": {
    "hidden": true
   },
   "outputs": [
    {
     "data": {
      "text/plain": [
       "<__main__.B at 0x7f31341a08d0>"
      ]
     },
     "execution_count": 49,
     "metadata": {},
     "output_type": "execute_result"
    }
   ],
   "source": [
    "# THIS IS ALMOST WHAT WE WANT!\n",
    "class A():\n",
    "    def __init__(self):\n",
    "        pass\n",
    "class B(A):\n",
    "    def __init__(self, create=True):\n",
    "        if create:\n",
    "            self.f = B(create=False)\n",
    "b = B()\n",
    "b.f\n",
    "# bf.f # attrerror"
   ]
  },
  {
   "cell_type": "code",
   "execution_count": 46,
   "metadata": {
    "hidden": true
   },
   "outputs": [
    {
     "name": "stdout",
     "output_type": "stream",
     "text": [
      "<class '__main__.Bf'>\n"
     ]
    }
   ],
   "source": [
    "# THIS WORKS WELL\n",
    "class A():\n",
    "    def __init__(self):\n",
    "        pass\n",
    "class B(A):\n",
    "    def __init__(self):\n",
    "        if type(self) == B:\n",
    "            self.f = Bf()\n",
    "class Bf(B):\n",
    "    pass\n",
    "b = B()\n",
    "print(type(b.f))\n",
    "bf = Bf()\n",
    "# bf.f # attrerror"
   ]
  },
  {
   "cell_type": "code",
   "execution_count": 34,
   "metadata": {
    "hidden": true
   },
   "outputs": [
    {
     "name": "stdout",
     "output_type": "stream",
     "text": [
      "suffix:  \n",
      "self.__class__.__name__:  A\n",
      "suffix:  Filt\n",
      "self.__class__.__name__:  A\n",
      "suffix:  Filt\n",
      "self.__class__.__name__:  A\n",
      "suffix:  Filt\n",
      "self.__class__.__name__:  A\n",
      "suffix:  Filt\n",
      "self.__class__.__name__:  A\n",
      "suffix:  Filt\n",
      "self.__class__.__name__:  A\n",
      "suffix:  Filt\n",
      "self.__class__.__name__:  A\n",
      "suffix:  Filt\n",
      "self.__class__.__name__:  A\n",
      "suffix:  Filt\n",
      "self.__class__.__name__:  A\n",
      "suffix:  Filt\n",
      "self.__class__.__name__:  A\n",
      "suffix:  Filt\n",
      "self.__class__.__name__:  A\n",
      "suffix:  Filt\n",
      "self.__class__.__name__:  A\n",
      "suffix:  Filt\n",
      "self.__class__.__name__:  A\n",
      "suffix:  Filt\n",
      "self.__class__.__name__:  A\n",
      "suffix:  Filt\n",
      "self.__class__.__name__:  A\n",
      "suffix:  Filt\n",
      "self.__class__.__name__:  A\n",
      "suffix:  Filt\n",
      "self.__class__.__name__:  A\n",
      "suffix:  Filt\n",
      "self.__class__.__name__:  A\n",
      "suffix:  Filt\n",
      "self.__class__.__name__:  A\n",
      "suffix:  Filt\n",
      "self.__class__.__name__:  A\n",
      "suffix:  Filt\n",
      "self.__class__.__name__:  A\n",
      "suffix:  Filt\n",
      "self.__class__.__name__:  A\n",
      "suffix:  Filt\n",
      "self.__class__.__name__:  A\n",
      "suffix:  Filt\n",
      "self.__class__.__name__:  A\n",
      "suffix:  Filt\n",
      "self.__class__.__name__:  A\n",
      "suffix:  Filt\n",
      "self.__class__.__name__:  A\n",
      "suffix:  Filt\n",
      "self.__class__.__name__:  A\n",
      "suffix:  Filt\n",
      "self.__class__.__name__:  A\n",
      "suffix:  Filt\n",
      "self.__class__.__name__:  A\n",
      "suffix:  Filt\n",
      "self.__class__.__name__:  A\n",
      "suffix:  Filt\n",
      "self.__class__.__name__:  A\n",
      "suffix:  Filt\n",
      "self.__class__.__name__:  A\n",
      "suffix:  Filt\n",
      "self.__class__.__name__:  A\n",
      "suffix:  Filt\n",
      "self.__class__.__name__:  A\n",
      "suffix:  Filt\n",
      "self.__class__.__name__:  A\n",
      "suffix:  Filt\n",
      "self.__class__.__name__:  A\n",
      "suffix:  Filt\n",
      "self.__class__.__name__:  A\n",
      "suffix:  Filt\n",
      "self.__class__.__name__:  A\n",
      "suffix:  Filt\n",
      "self.__class__.__name__:  A\n",
      "suffix:  Filt\n",
      "self.__class__.__name__:  A\n",
      "suffix:  Filt\n",
      "self.__class__.__name__:  A\n",
      "suffix:  Filt\n",
      "self.__class__.__name__:  A\n",
      "suffix:  Filt\n",
      "self.__class__.__name__:  A\n",
      "suffix:  Filt\n",
      "self.__class__.__name__:  A\n",
      "suffix:  Filt\n",
      "self.__class__.__name__:  A\n",
      "suffix:  Filt\n",
      "self.__class__.__name__:  A\n",
      "suffix:  Filt\n",
      "self.__class__.__name__:  A\n",
      "suffix:  Filt\n",
      "self.__class__.__name__:  A\n",
      "suffix:  Filt\n",
      "self.__class__.__name__:  A\n",
      "suffix:  Filt\n",
      "self.__class__.__name__:  A\n",
      "suffix:  Filt\n",
      "self.__class__.__name__:  A\n",
      "suffix:  Filt\n",
      "self.__class__.__name__:  A\n",
      "suffix:  Filt\n",
      "self.__class__.__name__:  A\n",
      "suffix:  Filt\n",
      "self.__class__.__name__:  A\n",
      "suffix:  Filt\n",
      "self.__class__.__name__:  A\n",
      "suffix:  Filt\n",
      "self.__class__.__name__:  A\n",
      "suffix:  Filt\n",
      "self.__class__.__name__:  A\n",
      "suffix:  Filt\n",
      "self.__class__.__name__:  A\n",
      "suffix:  Filt\n",
      "self.__class__.__name__:  A\n",
      "suffix:  Filt\n",
      "self.__class__.__name__:  A\n",
      "suffix:  Filt\n",
      "self.__class__.__name__:  A\n",
      "suffix:  Filt\n",
      "self.__class__.__name__:  A\n",
      "suffix:  Filt\n",
      "self.__class__.__name__:  A\n",
      "suffix:  Filt\n",
      "self.__class__.__name__:  A\n",
      "suffix:  Filt\n",
      "self.__class__.__name__:  A\n",
      "suffix:  Filt\n",
      "self.__class__.__name__:  A\n",
      "suffix:  Filt\n",
      "self.__class__.__name__:  A\n",
      "suffix:  Filt\n",
      "self.__class__.__name__:  A\n",
      "suffix:  Filt\n",
      "self.__class__.__name__:  A\n",
      "suffix:  Filt\n",
      "self.__class__.__name__:  A\n",
      "suffix:  Filt\n",
      "self.__class__.__name__:  A\n",
      "suffix:  Filt\n",
      "self.__class__.__name__:  A\n",
      "suffix:  Filt\n",
      "self.__class__.__name__:  A\n",
      "suffix:  Filt\n",
      "self.__class__.__name__:  A\n",
      "suffix:  Filt\n",
      "self.__class__.__name__:  A\n",
      "suffix:  Filt\n",
      "self.__class__.__name__:  A\n",
      "suffix:  Filt\n",
      "self.__class__.__name__:  A\n",
      "suffix:  Filt\n",
      "self.__class__.__name__:  A\n",
      "suffix:  Filt\n",
      "self.__class__.__name__:  A\n",
      "suffix:  Filt\n",
      "self.__class__.__name__:  A\n",
      "suffix:  Filt\n",
      "self.__class__.__name__:  A\n",
      "suffix:  Filt\n",
      "self.__class__.__name__:  A\n",
      "suffix:  Filt\n",
      "self.__class__.__name__:  A\n",
      "suffix:  Filt\n",
      "self.__class__.__name__:  A\n",
      "suffix:  Filt\n",
      "self.__class__.__name__:  A\n",
      "suffix:  Filt\n",
      "self.__class__.__name__:  A\n",
      "suffix:  Filt\n",
      "self.__class__.__name__:  A\n",
      "suffix:  Filt\n",
      "self.__class__.__name__:  A\n",
      "suffix:  Filt\n",
      "self.__class__.__name__:  A\n",
      "suffix:  Filt\n",
      "self.__class__.__name__:  A\n",
      "suffix:  Filt\n",
      "self.__class__.__name__:  A\n",
      "suffix:  Filt\n",
      "self.__class__.__name__:  A\n",
      "suffix:  Filt\n",
      "self.__class__.__name__:  A\n",
      "suffix:  Filt\n",
      "self.__class__.__name__:  A\n",
      "suffix:  Filt\n",
      "self.__class__.__name__:  A\n",
      "suffix:  Filt\n",
      "self.__class__.__name__:  A\n",
      "suffix:  Filt\n",
      "self.__class__.__name__:  A\n",
      "suffix:  Filt\n",
      "self.__class__.__name__:  A\n",
      "suffix:  Filt\n",
      "self.__class__.__name__:  A\n",
      "suffix:  Filt\n",
      "self.__class__.__name__:  A\n",
      "suffix:  Filt\n",
      "self.__class__.__name__:  A\n",
      "suffix:  Filt\n",
      "self.__class__.__name__:  A\n",
      "suffix:  Filt\n",
      "self.__class__.__name__:  A\n",
      "suffix:  Filt\n",
      "self.__class__.__name__:  A\n",
      "suffix:  Filt\n",
      "self.__class__.__name__:  A\n",
      "suffix:  Filt\n",
      "self.__class__.__name__:  A\n",
      "suffix:  Filt\n",
      "self.__class__.__name__:  A\n",
      "suffix:  Filt\n",
      "self.__class__.__name__:  A\n",
      "suffix:  Filt\n",
      "self.__class__.__name__:  A\n",
      "suffix:  Filt\n",
      "self.__class__.__name__:  A\n",
      "suffix:  Filt\n",
      "self.__class__.__name__:  A\n",
      "suffix:  Filt\n",
      "self.__class__.__name__:  A\n",
      "suffix:  Filt\n",
      "self.__class__.__name__:  A\n",
      "suffix:  Filt\n",
      "self.__class__.__name__:  A\n",
      "suffix:  Filt\n",
      "self.__class__.__name__:  A\n",
      "suffix:  Filt\n",
      "self.__class__.__name__:  A\n",
      "suffix:  Filt\n",
      "self.__class__.__name__:  A\n",
      "suffix:  Filt\n",
      "self.__class__.__name__:  A\n",
      "suffix:  Filt\n",
      "self.__class__.__name__:  A\n",
      "suffix:  Filt\n",
      "self.__class__.__name__:  A\n",
      "suffix:  Filt\n",
      "self.__class__.__name__:  A\n",
      "suffix:  Filt\n",
      "self.__class__.__name__:  A\n",
      "suffix:  Filt\n",
      "self.__class__.__name__:  A\n",
      "suffix:  Filt\n",
      "self.__class__.__name__:  A\n",
      "suffix:  Filt\n",
      "self.__class__.__name__:  A\n",
      "suffix:  Filt\n",
      "self.__class__.__name__:  A\n",
      "suffix:  Filt\n",
      "self.__class__.__name__:  A\n",
      "suffix:  Filt\n",
      "self.__class__.__name__:  A\n",
      "suffix:  Filt\n",
      "self.__class__.__name__:  A\n",
      "suffix:  Filt\n",
      "self.__class__.__name__:  A\n",
      "suffix:  Filt\n",
      "self.__class__.__name__:  A\n",
      "suffix:  Filt\n",
      "self.__class__.__name__:  A\n",
      "suffix:  Filt\n",
      "self.__class__.__name__:  A\n",
      "suffix:  Filt\n",
      "self.__class__.__name__:  A\n",
      "suffix:  Filt\n",
      "self.__class__.__name__:  A\n",
      "suffix:  Filt\n",
      "self.__class__.__name__:  A\n",
      "suffix:  Filt\n",
      "self.__class__.__name__:  A\n",
      "suffix:  Filt\n",
      "self.__class__.__name__:  A\n",
      "suffix:  Filt\n",
      "self.__class__.__name__:  A\n",
      "suffix:  Filt\n",
      "self.__class__.__name__:  A\n",
      "suffix:  Filt\n",
      "self.__class__.__name__:  A\n",
      "suffix:  Filt\n",
      "self.__class__.__name__:  A\n",
      "suffix:  Filt\n",
      "self.__class__.__name__:  A\n",
      "suffix:  Filt\n",
      "self.__class__.__name__:  A\n",
      "suffix:  Filt\n",
      "self.__class__.__name__:  A\n",
      "suffix:  Filt\n",
      "self.__class__.__name__:  A\n",
      "suffix:  Filt\n",
      "self.__class__.__name__:  A\n",
      "suffix:  Filt\n",
      "self.__class__.__name__:  A\n",
      "suffix:  Filt\n",
      "self.__class__.__name__:  A\n",
      "suffix:  Filt\n",
      "self.__class__.__name__:  A\n",
      "suffix:  Filt\n",
      "self.__class__.__name__:  A\n",
      "suffix:  Filt\n",
      "self.__class__.__name__:  A\n",
      "suffix:  Filt\n",
      "self.__class__.__name__:  A\n",
      "suffix:  Filt\n",
      "self.__class__.__name__:  A\n",
      "suffix:  Filt\n",
      "self.__class__.__name__:  A\n",
      "suffix:  Filt\n",
      "self.__class__.__name__:  A\n",
      "suffix:  Filt\n",
      "self.__class__.__name__:  A\n",
      "suffix:  Filt\n",
      "self.__class__.__name__:  A\n",
      "suffix:  Filt\n",
      "self.__class__.__name__:  A\n",
      "suffix:  Filt\n",
      "self.__class__.__name__:  A\n",
      "suffix:  Filt\n",
      "self.__class__.__name__:  A\n",
      "suffix:  Filt\n",
      "self.__class__.__name__:  A\n",
      "suffix:  Filt\n",
      "self.__class__.__name__:  A\n",
      "suffix:  Filt\n",
      "self.__class__.__name__:  A\n",
      "suffix:  Filt\n",
      "self.__class__.__name__:  A\n",
      "suffix:  Filt\n",
      "self.__class__.__name__:  A\n",
      "suffix:  Filt\n",
      "self.__class__.__name__:  A\n",
      "suffix:  Filt\n",
      "self.__class__.__name__:  A\n",
      "suffix:  Filt\n",
      "self.__class__.__name__:  A\n",
      "suffix:  Filt\n",
      "self.__class__.__name__:  A\n",
      "suffix:  Filt\n",
      "self.__class__.__name__:  A\n",
      "suffix:  Filt\n",
      "self.__class__.__name__:  A\n",
      "suffix:  Filt\n",
      "self.__class__.__name__:  A\n",
      "suffix:  Filt\n",
      "self.__class__.__name__:  A\n",
      "suffix:  Filt\n",
      "self.__class__.__name__:  A\n",
      "suffix:  Filt\n",
      "self.__class__.__name__:  A\n",
      "suffix:  Filt\n",
      "self.__class__.__name__:  A\n",
      "suffix:  Filt\n",
      "self.__class__.__name__:  A\n",
      "suffix:  Filt\n",
      "self.__class__.__name__:  A\n",
      "suffix:  Filt\n",
      "self.__class__.__name__:  A\n",
      "suffix:  Filt\n",
      "self.__class__.__name__:  A\n",
      "suffix:  Filt\n",
      "self.__class__.__name__:  A\n",
      "suffix:  Filt\n",
      "self.__class__.__name__:  A\n",
      "suffix:  Filt\n",
      "self.__class__.__name__:  A\n",
      "suffix:  Filt\n",
      "self.__class__.__name__:  A\n",
      "suffix:  Filt\n",
      "self.__class__.__name__:  A\n",
      "suffix:  Filt\n",
      "self.__class__.__name__:  A\n",
      "suffix:  Filt\n",
      "self.__class__.__name__:  A\n",
      "suffix:  Filt\n",
      "self.__class__.__name__:  A\n",
      "suffix:  Filt\n",
      "self.__class__.__name__:  A\n",
      "suffix:  Filt\n",
      "self.__class__.__name__:  A\n",
      "suffix:  Filt\n",
      "self.__class__.__name__:  A\n",
      "suffix:  Filt\n",
      "self.__class__.__name__:  A\n",
      "suffix:  Filt\n",
      "self.__class__.__name__:  A\n",
      "suffix:  Filt\n",
      "self.__class__.__name__:  A\n",
      "suffix:  Filt\n",
      "self.__class__.__name__:  A\n",
      "suffix:  Filt\n",
      "self.__class__.__name__:  A\n",
      "suffix:  Filt\n",
      "self.__class__.__name__:  A\n",
      "suffix:  Filt\n",
      "self.__class__.__name__:  A\n",
      "suffix:  Filt\n",
      "self.__class__.__name__:  A\n",
      "suffix:  Filt\n",
      "self.__class__.__name__:  A\n",
      "suffix:  Filt\n",
      "self.__class__.__name__:  A\n",
      "suffix:  Filt\n",
      "self.__class__.__name__:  A\n",
      "suffix:  Filt\n",
      "self.__class__.__name__:  A\n",
      "suffix:  Filt\n",
      "self.__class__.__name__:  A\n",
      "suffix:  Filt\n",
      "self.__class__.__name__:  A\n",
      "suffix:  Filt\n",
      "self.__class__.__name__:  A\n",
      "suffix:  Filt\n",
      "self.__class__.__name__:  A\n",
      "suffix:  Filt\n",
      "self.__class__.__name__:  A\n",
      "suffix:  Filt\n",
      "self.__class__.__name__:  A\n",
      "suffix:  Filt\n",
      "self.__class__.__name__:  A\n",
      "suffix:  Filt\n",
      "self.__class__.__name__:  A\n",
      "suffix:  Filt\n",
      "self.__class__.__name__:  A\n",
      "suffix:  Filt\n",
      "self.__class__.__name__:  A\n",
      "suffix:  Filt\n",
      "self.__class__.__name__:  A\n",
      "suffix:  Filt\n",
      "self.__class__.__name__:  A\n",
      "suffix:  Filt\n",
      "self.__class__.__name__:  A\n",
      "suffix:  Filt\n",
      "self.__class__.__name__:  A\n",
      "suffix:  Filt\n",
      "self.__class__.__name__:  A\n",
      "suffix:  Filt\n",
      "self.__class__.__name__:  A\n",
      "suffix:  Filt\n",
      "self.__class__.__name__:  A\n",
      "suffix:  Filt\n",
      "self.__class__.__name__:  A\n",
      "suffix:  Filt\n",
      "self.__class__.__name__:  A\n",
      "suffix:  Filt\n",
      "self.__class__.__name__:  A\n",
      "suffix:  Filt\n",
      "self.__class__.__name__:  A\n",
      "suffix:  Filt\n",
      "self.__class__.__name__:  A\n",
      "suffix:  Filt\n",
      "self.__class__.__name__:  A\n",
      "suffix:  Filt\n",
      "self.__class__.__name__:  A\n",
      "suffix:  Filt\n",
      "self.__class__.__name__:  A\n",
      "suffix:  Filt\n",
      "self.__class__.__name__:  A\n",
      "suffix:  Filt\n",
      "self.__class__.__name__:  A\n",
      "suffix:  Filt\n",
      "self.__class__.__name__:  A\n",
      "suffix:  Filt\n",
      "self.__class__.__name__:  A\n",
      "suffix:  Filt\n",
      "self.__class__.__name__:  A\n",
      "suffix:  Filt\n",
      "self.__class__.__name__:  A\n",
      "suffix:  Filt\n",
      "self.__class__.__name__:  A\n",
      "suffix:  Filt\n",
      "self.__class__.__name__:  A\n",
      "suffix:  Filt\n",
      "self.__class__.__name__:  A\n",
      "suffix:  Filt\n",
      "self.__class__.__name__:  A\n",
      "suffix:  Filt\n",
      "self.__class__.__name__:  A\n",
      "suffix:  Filt\n",
      "self.__class__.__name__:  A\n",
      "suffix:  Filt\n",
      "self.__class__.__name__:  A\n",
      "suffix:  Filt\n",
      "self.__class__.__name__:  A\n",
      "suffix:  Filt\n",
      "self.__class__.__name__:  A\n",
      "suffix:  Filt\n",
      "self.__class__.__name__:  A\n",
      "suffix:  Filt\n",
      "self.__class__.__name__:  A\n",
      "suffix:  Filt\n",
      "self.__class__.__name__:  A\n",
      "suffix:  Filt\n",
      "self.__class__.__name__:  A\n",
      "suffix:  Filt\n",
      "self.__class__.__name__:  A\n",
      "suffix:  Filt\n",
      "self.__class__.__name__:  A\n",
      "suffix:  Filt\n",
      "self.__class__.__name__:  A\n",
      "suffix:  Filt\n",
      "self.__class__.__name__:  A\n",
      "suffix:  Filt\n",
      "self.__class__.__name__:  A\n",
      "suffix:  Filt\n",
      "self.__class__.__name__:  A\n",
      "suffix:  Filt\n",
      "self.__class__.__name__:  A\n",
      "suffix:  Filt\n",
      "self.__class__.__name__:  A\n",
      "suffix:  Filt\n",
      "self.__class__.__name__:  A\n",
      "suffix:  Filt\n",
      "self.__class__.__name__:  A\n",
      "suffix:  Filt\n",
      "self.__class__.__name__:  A\n",
      "suffix:  Filt\n",
      "self.__class__.__name__:  A\n",
      "suffix:  Filt\n",
      "self.__class__.__name__:  A\n",
      "suffix:  Filt\n",
      "self.__class__.__name__:  A\n",
      "suffix:  Filt\n",
      "self.__class__.__name__:  A\n",
      "suffix:  Filt\n",
      "self.__class__.__name__:  A\n",
      "suffix:  Filt\n",
      "self.__class__.__name__:  A\n",
      "suffix:  Filt\n",
      "self.__class__.__name__:  A\n",
      "suffix:  Filt\n",
      "self.__class__.__name__:  A\n",
      "suffix:  Filt\n",
      "self.__class__.__name__:  A\n",
      "suffix:  Filt\n",
      "self.__class__.__name__:  A\n",
      "suffix:  Filt\n",
      "self.__class__.__name__:  A\n",
      "suffix:  Filt\n",
      "self.__class__.__name__:  A\n",
      "suffix:  Filt\n",
      "self.__class__.__name__:  A\n",
      "suffix:  Filt\n",
      "self.__class__.__name__:  A\n",
      "suffix:  Filt\n",
      "self.__class__.__name__:  A\n",
      "suffix:  Filt\n",
      "self.__class__.__name__:  A\n",
      "suffix:  Filt\n",
      "self.__class__.__name__:  A\n",
      "suffix:  Filt\n",
      "self.__class__.__name__:  A\n",
      "suffix:  Filt\n",
      "self.__class__.__name__:  A\n",
      "suffix:  Filt\n",
      "self.__class__.__name__:  A\n",
      "suffix:  Filt\n",
      "self.__class__.__name__:  A\n",
      "suffix:  Filt\n",
      "self.__class__.__name__:  A\n",
      "suffix:  Filt\n",
      "self.__class__.__name__:  A\n",
      "suffix:  Filt\n",
      "self.__class__.__name__:  A\n",
      "suffix:  Filt\n",
      "self.__class__.__name__:  A\n",
      "suffix:  Filt\n",
      "self.__class__.__name__:  A\n",
      "suffix:  Filt\n",
      "self.__class__.__name__:  A\n",
      "suffix:  Filt\n",
      "self.__class__.__name__:  A\n",
      "suffix:  Filt\n",
      "self.__class__.__name__:  A\n",
      "suffix:  Filt\n",
      "self.__class__.__name__:  A\n",
      "suffix:  Filt\n",
      "self.__class__.__name__:  A\n",
      "suffix:  Filt\n",
      "self.__class__.__name__:  A\n",
      "suffix:  Filt\n",
      "self.__class__.__name__:  A\n",
      "suffix:  Filt\n",
      "self.__class__.__name__:  A\n",
      "suffix:  Filt\n",
      "self.__class__.__name__:  A\n",
      "suffix:  Filt\n",
      "self.__class__.__name__:  A\n",
      "suffix:  Filt\n",
      "self.__class__.__name__:  A\n",
      "suffix:  Filt\n",
      "self.__class__.__name__:  A\n",
      "suffix:  Filt\n",
      "self.__class__.__name__:  A\n",
      "suffix:  Filt\n",
      "self.__class__.__name__:  A\n",
      "suffix:  Filt\n",
      "self.__class__.__name__:  A\n",
      "suffix:  Filt\n",
      "self.__class__.__name__:  A\n",
      "suffix:  Filt\n",
      "self.__class__.__name__:  A\n",
      "suffix:  Filt\n",
      "self.__class__.__name__:  A\n",
      "suffix:  Filt\n",
      "self.__class__.__name__:  A\n",
      "suffix:  Filt\n",
      "self.__class__.__name__:  A\n",
      "suffix:  Filt\n",
      "self.__class__.__name__:  A\n",
      "suffix:  Filt\n",
      "self.__class__.__name__:  A\n",
      "suffix:  Filt\n",
      "self.__class__.__name__:  A\n",
      "suffix:  Filt\n",
      "self.__class__.__name__:  A\n",
      "suffix:  Filt\n",
      "self.__class__.__name__:  A\n",
      "suffix:  Filt\n",
      "self.__class__.__name__:  A\n",
      "suffix:  Filt\n",
      "self.__class__.__name__:  A\n",
      "suffix:  Filt\n",
      "self.__class__.__name__:  A\n",
      "suffix:  Filt\n",
      "self.__class__.__name__:  A\n",
      "suffix:  Filt\n",
      "self.__class__.__name__:  A\n",
      "suffix:  Filt\n",
      "self.__class__.__name__:  A\n",
      "suffix:  Filt\n",
      "self.__class__.__name__:  A\n",
      "suffix:  Filt\n",
      "self.__class__.__name__:  A\n",
      "suffix:  Filt\n",
      "self.__class__.__name__:  A\n",
      "suffix:  Filt\n",
      "self.__class__.__name__:  A\n",
      "suffix:  Filt\n",
      "self.__class__.__name__:  A\n",
      "suffix:  Filt\n",
      "self.__class__.__name__:  A\n",
      "suffix:  Filt\n",
      "self.__class__.__name__:  A\n",
      "suffix:  Filt\n",
      "self.__class__.__name__:  A\n",
      "suffix:  Filt\n",
      "self.__class__.__name__:  A\n",
      "suffix:  Filt\n",
      "self.__class__.__name__:  A\n",
      "suffix:  Filt\n",
      "self.__class__.__name__:  A\n",
      "suffix:  Filt\n",
      "self.__class__.__name__:  A\n",
      "suffix:  Filt\n",
      "self.__class__.__name__:  A\n",
      "suffix:  Filt\n",
      "self.__class__.__name__:  A\n",
      "suffix:  Filt\n",
      "self.__class__.__name__:  A\n",
      "suffix:  Filt\n",
      "self.__class__.__name__:  A\n",
      "suffix:  Filt\n",
      "self.__class__.__name__:  A\n",
      "suffix:  Filt\n",
      "self.__class__.__name__:  A\n",
      "suffix:  Filt\n",
      "self.__class__.__name__:  A\n",
      "suffix:  Filt\n",
      "self.__class__.__name__:  A\n",
      "suffix:  Filt\n",
      "self.__class__.__name__:  A\n",
      "suffix:  Filt\n",
      "self.__class__.__name__:  A\n",
      "suffix:  Filt\n",
      "self.__class__.__name__:  A\n",
      "suffix:  Filt\n",
      "self.__class__.__name__:  A\n",
      "suffix:  Filt\n",
      "self.__class__.__name__:  A\n",
      "suffix:  Filt\n",
      "self.__class__.__name__:  A\n",
      "suffix:  Filt\n",
      "self.__class__.__name__:  A\n",
      "suffix:  Filt\n",
      "self.__class__.__name__:  A\n",
      "suffix:  Filt\n",
      "self.__class__.__name__:  A\n",
      "suffix:  Filt\n",
      "self.__class__.__name__:  A\n",
      "suffix:  Filt\n",
      "self.__class__.__name__:  A\n",
      "suffix:  Filt\n",
      "self.__class__.__name__:  A\n",
      "suffix:  Filt\n",
      "self.__class__.__name__:  A\n",
      "suffix:  Filt\n",
      "self.__class__.__name__:  A\n",
      "suffix:  Filt\n",
      "self.__class__.__name__:  A\n",
      "suffix:  Filt\n",
      "self.__class__.__name__:  A\n",
      "suffix:  Filt\n",
      "self.__class__.__name__:  A\n",
      "suffix:  Filt\n",
      "self.__class__.__name__:  A\n",
      "suffix:  Filt\n",
      "self.__class__.__name__:  A\n",
      "suffix:  Filt\n",
      "self.__class__.__name__:  A\n",
      "suffix:  Filt\n",
      "self.__class__.__name__:  A\n",
      "suffix:  Filt\n",
      "self.__class__.__name__:  A\n",
      "suffix:  Filt\n",
      "self.__class__.__name__:  A\n",
      "suffix:  Filt\n",
      "self.__class__.__name__:  A\n",
      "suffix:  Filt\n",
      "self.__class__.__name__:  A\n",
      "suffix:  Filt\n",
      "self.__class__.__name__:  A\n",
      "suffix:  Filt\n",
      "self.__class__.__name__:  A\n",
      "suffix:  Filt\n",
      "self.__class__.__name__:  A\n",
      "suffix:  Filt\n",
      "self.__class__.__name__:  A\n",
      "suffix:  Filt\n",
      "self.__class__.__name__:  A\n",
      "suffix:  Filt\n",
      "self.__class__.__name__:  A\n",
      "suffix:  Filt\n",
      "self.__class__.__name__:  A\n",
      "suffix:  Filt\n",
      "self.__class__.__name__:  A\n",
      "suffix:  Filt\n",
      "self.__class__.__name__:  A\n",
      "suffix:  Filt\n",
      "self.__class__.__name__:  A\n",
      "suffix:  Filt\n",
      "self.__class__.__name__:  A\n",
      "suffix:  Filt\n",
      "self.__class__.__name__:  A\n",
      "suffix:  Filt\n",
      "self.__class__.__name__:  A\n",
      "suffix:  Filt\n",
      "self.__class__.__name__:  A\n",
      "suffix:  Filt\n",
      "self.__class__.__name__:  A\n",
      "suffix:  Filt\n",
      "self.__class__.__name__:  A\n",
      "suffix:  Filt\n",
      "self.__class__.__name__:  A\n",
      "suffix:  Filt\n",
      "self.__class__.__name__:  A\n",
      "suffix:  Filt\n",
      "self.__class__.__name__:  A\n",
      "suffix:  Filt\n",
      "self.__class__.__name__:  A\n",
      "suffix:  Filt\n",
      "self.__class__.__name__:  A\n",
      "suffix:  Filt\n",
      "self.__class__.__name__:  A\n",
      "suffix:  Filt\n",
      "self.__class__.__name__:  A\n",
      "suffix:  Filt\n",
      "self.__class__.__name__:  A\n",
      "suffix:  Filt\n",
      "self.__class__.__name__:  A\n",
      "suffix:  Filt\n",
      "self.__class__.__name__:  A\n",
      "suffix:  Filt\n",
      "self.__class__.__name__:  A\n",
      "suffix:  Filt\n",
      "self.__class__.__name__:  A\n",
      "suffix:  Filt\n",
      "self.__class__.__name__:  A\n",
      "suffix:  Filt\n",
      "self.__class__.__name__:  A\n",
      "suffix:  Filt\n",
      "self.__class__.__name__:  A\n",
      "suffix:  Filt\n",
      "self.__class__.__name__:  A\n",
      "suffix:  Filt\n",
      "self.__class__.__name__:  A\n",
      "suffix:  Filt\n",
      "self.__class__.__name__:  A\n",
      "suffix:  Filt\n",
      "self.__class__.__name__:  A\n",
      "suffix:  Filt\n",
      "self.__class__.__name__:  A\n",
      "suffix:  Filt\n",
      "self.__class__.__name__:  A\n",
      "suffix:  Filt\n",
      "self.__class__.__name__:  A\n",
      "suffix:  Filt\n",
      "self.__class__.__name__:  A\n",
      "suffix:  Filt\n",
      "self.__class__.__name__:  A\n",
      "suffix:  Filt\n",
      "self.__class__.__name__:  A\n",
      "suffix:  Filt\n",
      "self.__class__.__name__:  A\n",
      "suffix:  Filt\n",
      "self.__class__.__name__:  A\n",
      "suffix:  Filt\n",
      "self.__class__.__name__:  A\n",
      "suffix:  Filt\n",
      "self.__class__.__name__:  A\n",
      "suffix:  Filt\n",
      "self.__class__.__name__:  A\n",
      "suffix:  Filt\n",
      "self.__class__.__name__:  A\n",
      "suffix:  Filt\n",
      "self.__class__.__name__:  A\n",
      "suffix:  Filt\n",
      "self.__class__.__name__:  A\n",
      "suffix:  Filt\n",
      "self.__class__.__name__:  A\n",
      "suffix:  Filt\n",
      "self.__class__.__name__:  A\n",
      "suffix:  Filt\n",
      "self.__class__.__name__:  A\n",
      "suffix:  Filt\n",
      "self.__class__.__name__:  A\n",
      "suffix:  Filt\n",
      "self.__class__.__name__:  A\n",
      "suffix:  Filt\n",
      "self.__class__.__name__:  A\n",
      "suffix:  Filt\n",
      "self.__class__.__name__:  A\n",
      "suffix:  Filt\n",
      "self.__class__.__name__:  A\n",
      "suffix:  Filt\n",
      "self.__class__.__name__:  A\n",
      "suffix:  Filt\n",
      "self.__class__.__name__:  A\n",
      "suffix:  Filt\n",
      "self.__class__.__name__:  A\n",
      "suffix:  Filt\n",
      "self.__class__.__name__:  A\n",
      "suffix:  Filt\n",
      "self.__class__.__name__:  A\n",
      "suffix:  Filt\n",
      "self.__class__.__name__:  A\n",
      "suffix:  Filt\n",
      "self.__class__.__name__:  A\n",
      "suffix:  Filt\n",
      "self.__class__.__name__:  A\n",
      "suffix:  Filt\n",
      "self.__class__.__name__:  A\n",
      "suffix:  Filt\n",
      "self.__class__.__name__:  A\n",
      "suffix:  Filt\n",
      "self.__class__.__name__:  A\n",
      "suffix:  Filt\n",
      "self.__class__.__name__:  A\n",
      "suffix:  Filt\n",
      "self.__class__.__name__:  A\n",
      "suffix:  Filt\n",
      "self.__class__.__name__:  A\n",
      "suffix:  Filt\n",
      "self.__class__.__name__:  A\n",
      "suffix:  Filt\n",
      "self.__class__.__name__:  A\n",
      "suffix:  Filt\n",
      "self.__class__.__name__:  A\n",
      "suffix:  Filt\n",
      "self.__class__.__name__:  A\n",
      "suffix:  Filt\n",
      "self.__class__.__name__:  A\n",
      "suffix:  Filt\n",
      "self.__class__.__name__:  A\n",
      "suffix:  Filt\n",
      "self.__class__.__name__:  A\n",
      "suffix:  Filt\n",
      "self.__class__.__name__:  A\n",
      "suffix:  Filt\n",
      "self.__class__.__name__:  A\n",
      "suffix:  Filt\n",
      "self.__class__.__name__:  A\n",
      "suffix:  Filt\n",
      "self.__class__.__name__:  A\n",
      "suffix:  Filt\n",
      "self.__class__.__name__:  A\n",
      "suffix:  Filt\n",
      "self.__class__.__name__:  A\n",
      "suffix:  Filt\n",
      "self.__class__.__name__:  A\n",
      "suffix:  Filt\n",
      "self.__class__.__name__:  A\n",
      "suffix:  Filt\n",
      "self.__class__.__name__:  A\n",
      "suffix:  Filt\n",
      "self.__class__.__name__:  A\n",
      "suffix:  Filt\n",
      "self.__class__.__name__:  A\n",
      "suffix:  Filt\n",
      "self.__class__.__name__:  A\n",
      "suffix:  Filt\n",
      "self.__class__.__name__:  A\n",
      "suffix:  Filt\n",
      "self.__class__.__name__:  A\n",
      "suffix:  Filt\n",
      "self.__class__.__name__:  A\n",
      "suffix:  Filt\n",
      "self.__class__.__name__:  A\n",
      "suffix:  Filt\n",
      "self.__class__.__name__:  A\n",
      "suffix:  Filt\n",
      "self.__class__.__name__:  A\n",
      "suffix:  Filt\n",
      "self.__class__.__name__:  A\n",
      "suffix:  Filt\n",
      "self.__class__.__name__:  A\n",
      "suffix:  Filt\n",
      "self.__class__.__name__:  A\n",
      "suffix:  Filt\n",
      "self.__class__.__name__:  A\n",
      "suffix:  Filt\n",
      "self.__class__.__name__:  A\n",
      "suffix:  Filt\n",
      "self.__class__.__name__:  A\n",
      "suffix:  Filt\n",
      "self.__class__.__name__:  A\n",
      "suffix:  Filt\n",
      "self.__class__.__name__:  A\n",
      "suffix:  Filt\n",
      "self.__class__.__name__:  A\n",
      "suffix:  Filt\n",
      "self.__class__.__name__:  A\n",
      "suffix:  Filt\n",
      "self.__class__.__name__:  A\n",
      "suffix:  Filt\n",
      "self.__class__.__name__:  A\n",
      "suffix:  Filt\n",
      "self.__class__.__name__:  A\n",
      "suffix:  Filt\n",
      "self.__class__.__name__:  A\n",
      "suffix:  Filt\n",
      "self.__class__.__name__:  A\n",
      "suffix:  Filt\n",
      "self.__class__.__name__:  A\n",
      "suffix:  Filt\n",
      "self.__class__.__name__:  A\n",
      "suffix:  Filt\n",
      "self.__class__.__name__:  A\n",
      "suffix:  Filt\n",
      "self.__class__.__name__:  A\n",
      "suffix:  Filt\n",
      "self.__class__.__name__:  A\n",
      "suffix:  Filt\n",
      "self.__class__.__name__:  A\n",
      "suffix:  Filt\n",
      "self.__class__.__name__:  A\n",
      "suffix:  Filt\n",
      "self.__class__.__name__:  A\n",
      "suffix:  Filt\n",
      "self.__class__.__name__:  A\n",
      "suffix:  Filt\n",
      "self.__class__.__name__:  A\n",
      "suffix:  Filt\n",
      "self.__class__.__name__:  A\n",
      "suffix:  Filt\n",
      "self.__class__.__name__:  A\n",
      "suffix:  Filt\n",
      "self.__class__.__name__:  A\n",
      "suffix:  Filt\n",
      "self.__class__.__name__:  A\n",
      "suffix:  Filt\n",
      "self.__class__.__name__:  A\n",
      "suffix:  Filt\n",
      "self.__class__.__name__:  A\n",
      "suffix:  Filt\n",
      "self.__class__.__name__:  A\n",
      "suffix:  Filt\n",
      "self.__class__.__name__:  A\n",
      "suffix:  Filt\n",
      "self.__class__.__name__:  A\n",
      "suffix:  Filt\n",
      "self.__class__.__name__:  A\n",
      "suffix:  Filt\n",
      "self.__class__.__name__:  A\n",
      "suffix:  Filt\n",
      "self.__class__.__name__:  A\n",
      "suffix:  Filt\n",
      "self.__class__.__name__:  A\n",
      "suffix:  Filt\n",
      "self.__class__.__name__:  A\n",
      "suffix:  Filt\n",
      "self.__class__.__name__:  A\n",
      "suffix:  Filt\n",
      "self.__class__.__name__:  A\n",
      "suffix:  Filt\n",
      "self.__class__.__name__:  A\n",
      "suffix:  Filt\n",
      "self.__class__.__name__:  A\n",
      "suffix:  Filt\n",
      "self.__class__.__name__:  A\n",
      "suffix:  Filt\n",
      "self.__class__.__name__:  A\n",
      "suffix:  Filt\n",
      "self.__class__.__name__:  A\n",
      "suffix:  Filt\n",
      "self.__class__.__name__:  A\n",
      "suffix:  Filt\n",
      "self.__class__.__name__:  A\n",
      "suffix:  Filt\n",
      "self.__class__.__name__:  A\n",
      "suffix:  Filt\n",
      "self.__class__.__name__:  A\n",
      "suffix:  Filt\n",
      "self.__class__.__name__:  A\n",
      "suffix:  Filt\n",
      "self.__class__.__name__:  A\n",
      "suffix:  Filt\n",
      "self.__class__.__name__:  A\n",
      "suffix:  Filt\n",
      "self.__class__.__name__:  A\n",
      "suffix:  Filt\n",
      "self.__class__.__name__:  A\n",
      "suffix:  Filt\n",
      "self.__class__.__name__:  A\n",
      "suffix:  Filt\n",
      "self.__class__.__name__:  A\n",
      "suffix:  Filt\n",
      "self.__class__.__name__:  A\n",
      "suffix:  Filt\n",
      "self.__class__.__name__:  A\n",
      "suffix:  Filt\n",
      "self.__class__.__name__:  A\n",
      "suffix:  Filt\n",
      "self.__class__.__name__:  A\n",
      "suffix:  Filt\n",
      "self.__class__.__name__:  A\n",
      "suffix:  Filt\n",
      "self.__class__.__name__:  A\n",
      "suffix:  Filt\n",
      "self.__class__.__name__:  A\n",
      "suffix:  Filt\n",
      "self.__class__.__name__:  A\n",
      "suffix:  Filt\n",
      "self.__class__.__name__:  A\n",
      "suffix:  Filt\n",
      "self.__class__.__name__:  A\n",
      "suffix:  Filt\n",
      "self.__class__.__name__:  A\n",
      "suffix:  Filt\n",
      "self.__class__.__name__:  A\n",
      "suffix:  Filt\n",
      "self.__class__.__name__:  A\n",
      "suffix:  Filt\n",
      "self.__class__.__name__:  A\n",
      "suffix:  Filt\n",
      "self.__class__.__name__:  A\n",
      "suffix:  Filt\n",
      "self.__class__.__name__:  A\n",
      "suffix:  Filt\n",
      "self.__class__.__name__:  A\n",
      "suffix:  Filt\n",
      "self.__class__.__name__:  A\n",
      "suffix:  Filt\n",
      "self.__class__.__name__:  A\n",
      "suffix:  Filt\n",
      "self.__class__.__name__:  A\n",
      "suffix:  Filt\n",
      "self.__class__.__name__:  A\n",
      "suffix:  Filt\n",
      "self.__class__.__name__:  A\n",
      "suffix:  Filt\n",
      "self.__class__.__name__:  A\n",
      "suffix:  Filt\n",
      "self.__class__.__name__:  A\n",
      "suffix:  Filt\n",
      "self.__class__.__name__:  A\n",
      "suffix:  Filt\n",
      "self.__class__.__name__:  A\n",
      "suffix:  Filt\n",
      "self.__class__.__name__:  A\n",
      "suffix:  Filt\n",
      "self.__class__.__name__:  A\n",
      "suffix:  Filt\n",
      "self.__class__.__name__:  A\n",
      "suffix:  Filt\n",
      "self.__class__.__name__:  A\n",
      "suffix:  Filt\n",
      "self.__class__.__name__:  A\n",
      "suffix:  Filt\n",
      "self.__class__.__name__:  A\n",
      "suffix:  Filt\n",
      "self.__class__.__name__:  A\n",
      "suffix:  Filt\n",
      "self.__class__.__name__:  A\n",
      "suffix:  Filt\n",
      "self.__class__.__name__:  A\n",
      "suffix:  Filt\n",
      "self.__class__.__name__:  A\n",
      "suffix:  Filt\n",
      "self.__class__.__name__:  A\n",
      "suffix:  Filt\n",
      "self.__class__.__name__:  A\n",
      "suffix:  Filt\n",
      "self.__class__.__name__:  A\n",
      "suffix:  Filt\n",
      "self.__class__.__name__:  A\n",
      "suffix:  Filt\n",
      "self.__class__.__name__:  A\n",
      "suffix:  Filt\n",
      "self.__class__.__name__:  A\n",
      "suffix:  Filt\n",
      "self.__class__.__name__:  A\n",
      "suffix:  Filt\n",
      "self.__class__.__name__:  A\n",
      "suffix:  Filt\n",
      "self.__class__.__name__:  A\n",
      "suffix:  Filt\n",
      "self.__class__.__name__:  A\n",
      "suffix:  Filt\n",
      "self.__class__.__name__:  A\n",
      "suffix:  Filt\n",
      "self.__class__.__name__:  A\n",
      "suffix:  Filt\n",
      "self.__class__.__name__:  A\n",
      "suffix:  Filt\n",
      "self.__class__.__name__:  A\n",
      "suffix:  Filt\n",
      "self.__class__.__name__:  A\n",
      "suffix:  Filt\n",
      "self.__class__.__name__:  A\n",
      "suffix:  Filt\n",
      "self.__class__.__name__:  A\n",
      "suffix:  Filt\n",
      "self.__class__.__name__:  A\n",
      "suffix:  Filt\n",
      "self.__class__.__name__:  A\n",
      "suffix:  Filt\n",
      "self.__class__.__name__:  A\n",
      "suffix:  Filt\n",
      "self.__class__.__name__:  A\n",
      "suffix:  Filt\n",
      "self.__class__.__name__:  A\n",
      "suffix:  Filt\n",
      "self.__class__.__name__:  A\n",
      "suffix:  Filt\n",
      "self.__class__.__name__:  A\n",
      "suffix:  Filt\n",
      "self.__class__.__name__:  A\n",
      "suffix:  Filt\n",
      "self.__class__.__name__:  A\n",
      "suffix:  Filt\n",
      "self.__class__.__name__:  A\n",
      "suffix:  Filt\n",
      "self.__class__.__name__:  A\n",
      "suffix:  Filt\n",
      "self.__class__.__name__:  A\n",
      "suffix:  Filt\n",
      "self.__class__.__name__:  A\n",
      "suffix:  Filt\n",
      "self.__class__.__name__:  A\n",
      "suffix:  Filt\n",
      "self.__class__.__name__:  A\n",
      "suffix:  Filt\n",
      "self.__class__.__name__:  A\n",
      "suffix:  Filt\n",
      "self.__class__.__name__:  A\n",
      "suffix:  Filt\n",
      "self.__class__.__name__:  A\n",
      "suffix:  Filt\n",
      "self.__class__.__name__:  A\n",
      "suffix:  Filt\n",
      "self.__class__.__name__:  A\n",
      "suffix:  Filt\n",
      "self.__class__.__name__:  A\n",
      "suffix:  Filt\n",
      "self.__class__.__name__:  A\n",
      "suffix:  Filt\n",
      "self.__class__.__name__:  A\n",
      "suffix:  Filt\n",
      "self.__class__.__name__:  A\n",
      "suffix:  Filt\n",
      "self.__class__.__name__:  A\n",
      "suffix:  Filt\n",
      "self.__class__.__name__:  A\n",
      "suffix:  Filt\n",
      "self.__class__.__name__:  A\n",
      "suffix:  Filt\n",
      "self.__class__.__name__:  A\n",
      "suffix:  Filt\n",
      "self.__class__.__name__:  A\n",
      "suffix:  Filt\n",
      "self.__class__.__name__:  A\n",
      "suffix:  Filt\n",
      "self.__class__.__name__:  A\n",
      "suffix:  Filt\n",
      "self.__class__.__name__:  A\n",
      "suffix:  Filt\n",
      "self.__class__.__name__:  A\n",
      "suffix:  Filt\n",
      "self.__class__.__name__:  A\n",
      "suffix:  Filt\n",
      "self.__class__.__name__:  A\n",
      "suffix:  Filt\n",
      "self.__class__.__name__:  A\n",
      "suffix:  Filt\n",
      "self.__class__.__name__:  A\n",
      "suffix:  Filt\n",
      "self.__class__.__name__:  A\n",
      "suffix:  Filt\n",
      "self.__class__.__name__:  A\n",
      "suffix:  Filt\n",
      "self.__class__.__name__:  A\n",
      "suffix:  Filt\n",
      "self.__class__.__name__:  A\n",
      "suffix:  Filt\n",
      "self.__class__.__name__:  A\n",
      "suffix:  Filt\n",
      "self.__class__.__name__:  A\n",
      "suffix:  Filt\n",
      "self.__class__.__name__:  A\n",
      "suffix:  Filt\n",
      "self.__class__.__name__:  A\n",
      "suffix:  Filt\n",
      "self.__class__.__name__:  A\n",
      "suffix:  Filt\n",
      "self.__class__.__name__:  A\n",
      "suffix:  Filt\n",
      "self.__class__.__name__:  A\n",
      "suffix:  Filt\n",
      "self.__class__.__name__:  A\n",
      "suffix:  Filt\n",
      "self.__class__.__name__:  A\n",
      "suffix:  Filt\n",
      "self.__class__.__name__:  A\n",
      "suffix:  Filt\n",
      "self.__class__.__name__:  A\n",
      "suffix:  Filt\n",
      "self.__class__.__name__:  A\n",
      "suffix:  Filt\n",
      "self.__class__.__name__:  A\n",
      "suffix:  Filt\n",
      "self.__class__.__name__:  A\n",
      "suffix:  Filt\n",
      "self.__class__.__name__:  A\n",
      "suffix:  Filt\n",
      "self.__class__.__name__:  A\n",
      "suffix:  Filt\n",
      "self.__class__.__name__:  A\n",
      "suffix:  Filt\n",
      "self.__class__.__name__:  A\n",
      "suffix:  Filt\n",
      "self.__class__.__name__:  A\n",
      "suffix:  Filt\n",
      "self.__class__.__name__:  A\n",
      "suffix:  Filt\n",
      "self.__class__.__name__:  A\n",
      "suffix:  Filt\n",
      "self.__class__.__name__:  A\n",
      "suffix:  Filt\n",
      "self.__class__.__name__:  A\n",
      "suffix:  Filt\n",
      "self.__class__.__name__:  A\n",
      "suffix:  Filt\n",
      "self.__class__.__name__:  A\n",
      "suffix:  Filt\n",
      "self.__class__.__name__:  A\n",
      "suffix:  Filt\n",
      "self.__class__.__name__:  A\n",
      "suffix:  Filt\n",
      "self.__class__.__name__:  A\n",
      "suffix:  Filt\n",
      "self.__class__.__name__:  A\n",
      "suffix:  Filt\n",
      "self.__class__.__name__:  A\n",
      "suffix:  Filt\n",
      "self.__class__.__name__:  A\n",
      "suffix:  Filt\n",
      "self.__class__.__name__:  A\n",
      "suffix:  Filt\n",
      "self.__class__.__name__:  A\n",
      "suffix:  Filt\n",
      "self.__class__.__name__:  A\n",
      "suffix:  Filt\n",
      "self.__class__.__name__:  A\n",
      "suffix:  Filt\n",
      "self.__class__.__name__:  A\n",
      "suffix:  Filt\n",
      "self.__class__.__name__:  A\n",
      "suffix:  Filt\n",
      "self.__class__.__name__:  A\n",
      "suffix:  Filt\n",
      "self.__class__.__name__:  A\n",
      "suffix:  Filt\n",
      "self.__class__.__name__:  A\n",
      "suffix:  Filt\n",
      "self.__class__.__name__:  A\n",
      "suffix:  Filt\n",
      "self.__class__.__name__:  A\n",
      "suffix:  Filt\n",
      "self.__class__.__name__:  A\n",
      "suffix:  Filt\n",
      "self.__class__.__name__:  A\n",
      "suffix:  Filt\n",
      "self.__class__.__name__:  A\n",
      "suffix:  Filt\n",
      "self.__class__.__name__:  A\n",
      "suffix:  Filt\n",
      "self.__class__.__name__:  A\n",
      "suffix:  Filt\n",
      "self.__class__.__name__:  A\n",
      "suffix:  Filt\n",
      "self.__class__.__name__:  A\n",
      "suffix:  Filt\n",
      "self.__class__.__name__:  A\n",
      "suffix:  Filt\n",
      "self.__class__.__name__:  A\n",
      "suffix:  Filt\n",
      "self.__class__.__name__:  A\n",
      "suffix:  Filt\n",
      "self.__class__.__name__:  A\n",
      "suffix:  Filt\n",
      "self.__class__.__name__:  A\n",
      "suffix:  Filt\n",
      "self.__class__.__name__:  A\n",
      "suffix:  Filt\n",
      "self.__class__.__name__:  A\n",
      "suffix:  Filt\n",
      "self.__class__.__name__:  A\n",
      "suffix:  Filt\n",
      "self.__class__.__name__:  A\n",
      "suffix:  Filt\n",
      "self.__class__.__name__:  A\n",
      "suffix:  Filt\n",
      "self.__class__.__name__:  A\n",
      "suffix:  Filt\n",
      "self.__class__.__name__:  A\n",
      "suffix:  Filt\n",
      "self.__class__.__name__:  A\n",
      "suffix:  Filt\n",
      "self.__class__.__name__:  A\n",
      "suffix:  Filt\n",
      "self.__class__.__name__:  A\n",
      "suffix:  Filt\n",
      "self.__class__.__name__:  A\n",
      "suffix:  Filt\n",
      "self.__class__.__name__:  A\n",
      "suffix:  Filt\n",
      "self.__class__.__name__:  A\n",
      "suffix:  Filt\n",
      "self.__class__.__name__:  A\n",
      "suffix:  Filt\n",
      "self.__class__.__name__:  A\n",
      "suffix:  Filt\n",
      "self.__class__.__name__:  A\n",
      "suffix:  Filt\n",
      "self.__class__.__name__:  A\n",
      "suffix:  Filt\n",
      "self.__class__.__name__:  A\n",
      "suffix:  Filt\n",
      "self.__class__.__name__:  A\n",
      "suffix:  Filt\n",
      "self.__class__.__name__:  A\n",
      "suffix:  Filt\n",
      "self.__class__.__name__:  A\n",
      "suffix:  Filt\n",
      "self.__class__.__name__:  A\n",
      "suffix:  Filt\n",
      "self.__class__.__name__:  A\n",
      "suffix:  Filt\n",
      "self.__class__.__name__:  A\n",
      "suffix:  Filt\n",
      "self.__class__.__name__:  A\n",
      "suffix:  Filt\n",
      "self.__class__.__name__:  A\n",
      "suffix:  Filt\n",
      "self.__class__.__name__:  A\n",
      "suffix:  Filt\n",
      "self.__class__.__name__:  A\n",
      "suffix:  Filt\n",
      "self.__class__.__name__:  A\n",
      "suffix:  Filt\n",
      "self.__class__.__name__:  A\n",
      "suffix:  Filt\n",
      "self.__class__.__name__:  A\n",
      "suffix:  Filt\n",
      "self.__class__.__name__:  A\n",
      "suffix:  Filt\n",
      "self.__class__.__name__:  A\n",
      "suffix:  Filt\n",
      "self.__class__.__name__:  A\n",
      "suffix:  Filt\n",
      "self.__class__.__name__:  A\n",
      "suffix:  Filt\n",
      "self.__class__.__name__:  A\n",
      "suffix:  Filt\n",
      "self.__class__.__name__:  A\n",
      "suffix:  Filt\n",
      "self.__class__.__name__:  A\n",
      "suffix:  Filt\n",
      "self.__class__.__name__:  A\n",
      "suffix:  Filt\n",
      "self.__class__.__name__:  A\n",
      "suffix:  Filt\n",
      "self.__class__.__name__:  A\n",
      "suffix:  Filt\n",
      "self.__class__.__name__:  A\n",
      "suffix:  Filt\n",
      "self.__class__.__name__:  A\n",
      "suffix:  Filt\n",
      "self.__class__.__name__:  A\n",
      "suffix:  Filt\n",
      "self.__class__.__name__:  A\n",
      "suffix:  Filt\n",
      "self.__class__.__name__:  A\n",
      "suffix:  Filt\n",
      "self.__class__.__name__:  A\n",
      "suffix:  Filt\n",
      "self.__class__.__name__:  A\n",
      "suffix:  Filt\n",
      "self.__class__.__name__:  A\n",
      "suffix:  Filt\n",
      "self.__class__.__name__:  A\n",
      "suffix:  Filt\n",
      "self.__class__.__name__:  A\n",
      "suffix:  Filt\n",
      "self.__class__.__name__:  A\n",
      "suffix:  Filt\n",
      "self.__class__.__name__:  A\n",
      "suffix:  Filt\n",
      "self.__class__.__name__:  A\n",
      "suffix:  Filt\n",
      "self.__class__.__name__:  A\n",
      "suffix:  Filt\n",
      "self.__class__.__name__:  A\n",
      "suffix:  Filt\n",
      "self.__class__.__name__:  A\n",
      "suffix:  Filt\n",
      "self.__class__.__name__:  A\n",
      "suffix:  Filt\n",
      "self.__class__.__name__:  A\n",
      "suffix:  Filt\n",
      "self.__class__.__name__:  A\n",
      "suffix:  Filt\n",
      "self.__class__.__name__:  A\n",
      "suffix:  Filt\n",
      "self.__class__.__name__:  A\n",
      "suffix:  Filt\n",
      "self.__class__.__name__:  A\n",
      "suffix:  Filt\n",
      "self.__class__.__name__:  A\n",
      "suffix:  Filt\n",
      "self.__class__.__name__:  A\n",
      "suffix:  Filt\n",
      "self.__class__.__name__:  A\n",
      "suffix:  Filt\n",
      "self.__class__.__name__:  A\n",
      "suffix:  Filt\n",
      "self.__class__.__name__:  A\n",
      "suffix:  Filt\n",
      "self.__class__.__name__:  A\n",
      "suffix:  Filt\n",
      "self.__class__.__name__:  A\n",
      "suffix:  Filt\n",
      "self.__class__.__name__:  A\n",
      "suffix:  Filt\n",
      "self.__class__.__name__:  A\n",
      "suffix:  Filt\n",
      "self.__class__.__name__:  A\n",
      "suffix:  Filt\n",
      "self.__class__.__name__:  A\n",
      "suffix:  Filt\n",
      "self.__class__.__name__:  A\n",
      "suffix:  Filt\n",
      "self.__class__.__name__:  A\n",
      "suffix:  Filt\n",
      "self.__class__.__name__:  A\n",
      "suffix: "
     ]
    },
    {
     "ename": "RecursionError",
     "evalue": "maximum recursion depth exceeded in comparison",
     "output_type": "error",
     "traceback": [
      "\u001b[0;31m---------------------------------------------------------------------------\u001b[0m",
      "\u001b[0;31mRecursionError\u001b[0m                            Traceback (most recent call last)",
      "\u001b[0;32m<ipython-input-34-828d660903c2>\u001b[0m in \u001b[0;36m<module>\u001b[0;34m\u001b[0m\n\u001b[1;32m     13\u001b[0m \u001b[0;32mclass\u001b[0m \u001b[0mC\u001b[0m\u001b[0;34m(\u001b[0m\u001b[0mA\u001b[0m\u001b[0;34m)\u001b[0m\u001b[0;34m:\u001b[0m\u001b[0;34m\u001b[0m\u001b[0m\n\u001b[1;32m     14\u001b[0m     \u001b[0;32mpass\u001b[0m\u001b[0;34m\u001b[0m\u001b[0m\n\u001b[0;32m---> 15\u001b[0;31m \u001b[0ma\u001b[0m \u001b[0;34m=\u001b[0m \u001b[0mA\u001b[0m\u001b[0;34m(\u001b[0m\u001b[0;34m)\u001b[0m\u001b[0;34m\u001b[0m\u001b[0m\n\u001b[0m\u001b[1;32m     16\u001b[0m \u001b[0mc\u001b[0m \u001b[0;34m=\u001b[0m \u001b[0mC\u001b[0m\u001b[0;34m(\u001b[0m\u001b[0;34m)\u001b[0m\u001b[0;34m\u001b[0m\u001b[0m\n",
      "\u001b[0;32m<ipython-input-34-828d660903c2>\u001b[0m in \u001b[0;36m__init__\u001b[0;34m(self, suffix)\u001b[0m\n\u001b[1;32m      5\u001b[0m         \u001b[0mprint\u001b[0m\u001b[0;34m(\u001b[0m\u001b[0;34m'self.__class__.__name__: '\u001b[0m\u001b[0;34m,\u001b[0m \u001b[0mself\u001b[0m\u001b[0;34m.\u001b[0m\u001b[0m__class__\u001b[0m\u001b[0;34m.\u001b[0m\u001b[0m__name__\u001b[0m\u001b[0;34m)\u001b[0m\u001b[0;34m\u001b[0m\u001b[0m\n\u001b[1;32m      6\u001b[0m         \u001b[0;32mif\u001b[0m \u001b[0;32mnot\u001b[0m \u001b[0mhasattr\u001b[0m\u001b[0;34m(\u001b[0m\u001b[0mself\u001b[0m\u001b[0;34m,\u001b[0m \u001b[0;34m'filt'\u001b[0m\u001b[0;34m)\u001b[0m\u001b[0;34m:\u001b[0m\u001b[0;34m\u001b[0m\u001b[0m\n\u001b[0;32m----> 7\u001b[0;31m             \u001b[0mself\u001b[0m\u001b[0;34m.\u001b[0m\u001b[0mfilt\u001b[0m \u001b[0;34m=\u001b[0m \u001b[0mself\u001b[0m\u001b[0;34m.\u001b[0m\u001b[0m__class__\u001b[0m\u001b[0;34m(\u001b[0m\u001b[0;34m'Filt'\u001b[0m\u001b[0;34m)\u001b[0m\u001b[0;34m\u001b[0m\u001b[0m\n\u001b[0m\u001b[1;32m      8\u001b[0m \u001b[0;31m#         if type(self) == A:\u001b[0m\u001b[0;34m\u001b[0m\u001b[0;34m\u001b[0m\u001b[0m\n\u001b[1;32m      9\u001b[0m \u001b[0;31m#             print('create!')\u001b[0m\u001b[0;34m\u001b[0m\u001b[0;34m\u001b[0m\u001b[0m\n",
      "... last 1 frames repeated, from the frame below ...\n",
      "\u001b[0;32m<ipython-input-34-828d660903c2>\u001b[0m in \u001b[0;36m__init__\u001b[0;34m(self, suffix)\u001b[0m\n\u001b[1;32m      5\u001b[0m         \u001b[0mprint\u001b[0m\u001b[0;34m(\u001b[0m\u001b[0;34m'self.__class__.__name__: '\u001b[0m\u001b[0;34m,\u001b[0m \u001b[0mself\u001b[0m\u001b[0;34m.\u001b[0m\u001b[0m__class__\u001b[0m\u001b[0;34m.\u001b[0m\u001b[0m__name__\u001b[0m\u001b[0;34m)\u001b[0m\u001b[0;34m\u001b[0m\u001b[0m\n\u001b[1;32m      6\u001b[0m         \u001b[0;32mif\u001b[0m \u001b[0;32mnot\u001b[0m \u001b[0mhasattr\u001b[0m\u001b[0;34m(\u001b[0m\u001b[0mself\u001b[0m\u001b[0;34m,\u001b[0m \u001b[0;34m'filt'\u001b[0m\u001b[0;34m)\u001b[0m\u001b[0;34m:\u001b[0m\u001b[0;34m\u001b[0m\u001b[0m\n\u001b[0;32m----> 7\u001b[0;31m             \u001b[0mself\u001b[0m\u001b[0;34m.\u001b[0m\u001b[0mfilt\u001b[0m \u001b[0;34m=\u001b[0m \u001b[0mself\u001b[0m\u001b[0;34m.\u001b[0m\u001b[0m__class__\u001b[0m\u001b[0;34m(\u001b[0m\u001b[0;34m'Filt'\u001b[0m\u001b[0;34m)\u001b[0m\u001b[0;34m\u001b[0m\u001b[0m\n\u001b[0m\u001b[1;32m      8\u001b[0m \u001b[0;31m#         if type(self) == A:\u001b[0m\u001b[0;34m\u001b[0m\u001b[0;34m\u001b[0m\u001b[0m\n\u001b[1;32m      9\u001b[0m \u001b[0;31m#             print('create!')\u001b[0m\u001b[0;34m\u001b[0m\u001b[0;34m\u001b[0m\u001b[0m\n",
      "\u001b[0;31mRecursionError\u001b[0m: maximum recursion depth exceeded in comparison"
     ]
    }
   ],
   "source": [
    "class A():\n",
    "    def __init__(self, suffix=''):\n",
    "        print('suffix: ', suffix)\n",
    "#         print(A.__)\n",
    "        print('self.__class__.__name__: ', self.__class__.__name__)\n",
    "        if not hasattr(self, 'filt'):\n",
    "            self.filt = self.__class__('Filt')\n",
    "#         if type(self) == A:\n",
    "#             print('create!')\n",
    "#             self.filt = Afilt()\n",
    "# class Afilt(A):\n",
    "#     pass\n",
    "class C(A):\n",
    "    pass\n",
    "a = A()\n",
    "c = C()"
   ]
  },
  {
   "cell_type": "markdown",
   "metadata": {
    "heading_collapsed": true
   },
   "source": [
    "# Checking type"
   ]
  },
  {
   "cell_type": "code",
   "execution_count": 131,
   "metadata": {
    "hidden": true
   },
   "outputs": [
    {
     "name": "stdout",
     "output_type": "stream",
     "text": [
      "my method\n",
      "canonical method\n",
      "non built-in type cannot be checked canonically though\n"
     ]
    }
   ],
   "source": [
    "a = 'my_string'\n",
    "\n",
    "if type(a) == type(''):\n",
    "    print 'my method'\n",
    "\n",
    "if isinstance(a, str):\n",
    "    print 'canonical method'\n",
    "\n",
    "b = np.array([1, 2])\n",
    "if type(b) == type(np.array([])):\n",
    "    print 'non built-in type cannot be checked canonically though'"
   ]
  },
  {
   "cell_type": "markdown",
   "metadata": {
    "heading_collapsed": true
   },
   "source": [
    "# Formating strings"
   ]
  },
  {
   "cell_type": "code",
   "execution_count": 12,
   "metadata": {
    "hidden": true,
    "run_control": {
     "marked": false
    }
   },
   "outputs": [
    {
     "data": {
      "text/plain": [
       "'\\nHello world!\\n'"
      ]
     },
     "execution_count": 12,
     "metadata": {},
     "output_type": "execute_result"
    }
   ],
   "source": [
    "# NEW POWERFUL WAY, ALLOWS ACCESSING BY NAME\n",
    "a = \"\"\"\n",
    "Hello {a}{b}\n",
    "\"\"\".format(a='world',b='!')\n",
    "a"
   ]
  },
  {
   "cell_type": "code",
   "execution_count": 2,
   "metadata": {
    "hidden": true
   },
   "outputs": [
    {
     "name": "stdout",
     "output_type": "stream",
     "text": [
      "Hej10\n"
     ]
    }
   ],
   "source": [
    "# OLD WAY\n",
    "print('Hej%s' % 10)"
   ]
  },
  {
   "cell_type": "markdown",
   "metadata": {
    "heading_collapsed": true
   },
   "source": [
    "# Formating numerical strings"
   ]
  },
  {
   "cell_type": "markdown",
   "metadata": {
    "hidden": true
   },
   "source": [
    "#### Newest (from 3.6 but I have Python 3.5)"
   ]
  },
  {
   "cell_type": "code",
   "execution_count": 75,
   "metadata": {
    "hidden": true
   },
   "outputs": [
    {
     "ename": "SyntaxError",
     "evalue": "invalid syntax (<ipython-input-75-b71a18edd9fa>, line 3)",
     "output_type": "error",
     "traceback": [
      "\u001b[0;36m  File \u001b[0;32m\"<ipython-input-75-b71a18edd9fa>\"\u001b[0;36m, line \u001b[0;32m3\u001b[0m\n\u001b[0;31m    print(f\"Hello, {name}. You are {age}.\")\u001b[0m\n\u001b[0m                                         ^\u001b[0m\n\u001b[0;31mSyntaxError\u001b[0m\u001b[0;31m:\u001b[0m invalid syntax\n"
     ]
    }
   ],
   "source": [
    "name = \"Eric\"\n",
    "age = 74\n",
    "print(f\"Hello, {name}. You are {age}.\")"
   ]
  },
  {
   "cell_type": "markdown",
   "metadata": {
    "hidden": true
   },
   "source": [
    "#### New"
   ]
  },
  {
   "cell_type": "code",
   "execution_count": null,
   "metadata": {
    "hidden": true
   },
   "outputs": [],
   "source": []
  },
  {
   "cell_type": "markdown",
   "metadata": {
    "hidden": true
   },
   "source": [
    "#### Old"
   ]
  },
  {
   "cell_type": "code",
   "execution_count": 29,
   "metadata": {
    "hidden": true
   },
   "outputs": [
    {
     "name": "stdout",
     "output_type": "stream",
     "text": [
      "-1.000e+00\n",
      "+1.0e+00\n"
     ]
    }
   ],
   "source": [
    "print \"%+10.3e\" % (-1)\n",
    "print \"%+7.1e\" % (+1)"
   ]
  },
  {
   "cell_type": "markdown",
   "metadata": {
    "heading_collapsed": true
   },
   "source": [
    "# Show details of built-in structures"
   ]
  },
  {
   "cell_type": "code",
   "execution_count": 33,
   "metadata": {
    "hidden": true,
    "scrolled": true
   },
   "outputs": [
    {
     "name": "stdout",
     "output_type": "stream",
     "text": [
      "{'_agg_filter': None,\n",
      " '_alpha': None,\n",
      " '_animated': False,\n",
      " '_autolabelpos': True,\n",
      " '_axes': <matplotlib.axes._subplots.AxesSubplot object at 0x7fea3ff30890>,\n",
      " '_clipon': True,\n",
      " '_clippath': None,\n",
      " '_contains': None,\n",
      " '_gid': None,\n",
      " '_gridOnMajor': False,\n",
      " '_gridOnMinor': False,\n",
      " '_label': u'',\n",
      " '_lastNumMajorTicks': 1,\n",
      " '_lastNumMinorTicks': 1,\n",
      " '_major_tick_kw': {u'gridOn': False},\n",
      " '_minor_tick_kw': {},\n",
      " '_mouseover': False,\n",
      " '_oid': 0,\n",
      " '_path_effects': [],\n",
      " '_picker': None,\n",
      " '_propobservers': {},\n",
      " '_rasterized': None,\n",
      " '_remove_method': None,\n",
      " '_scale': <matplotlib.scale.LinearScale object at 0x7fea3dc8fd10>,\n",
      " '_sketch': None,\n",
      " '_smart_bounds': False,\n",
      " '_snap': None,\n",
      " '_stale': True,\n",
      " '_transform': None,\n",
      " '_transformSet': False,\n",
      " '_url': None,\n",
      " '_visible': True,\n",
      " 'callbacks': <matplotlib.cbook.CallbackRegistry object at 0x7fea3de30a50>,\n",
      " 'clipbox': TransformedBbox(Bbox([[0.0, 0.0], [1.0, 1.0]]), CompositeGenericTransform(CompositeGenericTransform(BboxTransformTo(Bbox([[0.0, 0.0], [1.0, 1.0]])), Affine2D(array([[ 1.,  0.,  0.],\n",
      "       [ 0.,  1.,  0.],\n",
      "       [ 0.,  0.,  1.]]))), BboxTransformTo(TransformedBbox(Bbox([[0.125, 0.125], [0.9, 0.9]]), BboxTransformTo(TransformedBbox(Bbox([[0.0, 0.0], [6.0, 4.0]]), Affine2D(array([[ 72.,   0.,   0.],\n",
      "       [  0.,  72.,   0.],\n",
      "       [  0.,   0.,   1.]])))))))),\n",
      " 'converter': None,\n",
      " 'eventson': False,\n",
      " 'figure': <matplotlib.figure.Figure object at 0x7fea3dda6150>,\n",
      " 'isDefault_label': True,\n",
      " 'isDefault_majfmt': True,\n",
      " 'isDefault_majloc': True,\n",
      " 'isDefault_minfmt': True,\n",
      " 'isDefault_minloc': True,\n",
      " 'label': <matplotlib.text.Text object at 0x7fea3de30850>,\n",
      " 'label_position': u'bottom',\n",
      " 'labelpad': 5.0,\n",
      " 'major': <matplotlib.axis.Ticker object at 0x7fea3de305d0>,\n",
      " 'majorTicks': [<matplotlib.axis.XTick object at 0x7fea3dcfbb10>,\n",
      "                <matplotlib.axis.XTick object at 0x7fea3dcfb5d0>],\n",
      " 'minor': <matplotlib.axis.Ticker object at 0x7fea3de30610>,\n",
      " 'minorTicks': [<matplotlib.axis.XTick object at 0x7fea3dd81bd0>,\n",
      "                <matplotlib.axis.XTick object at 0x7fea3dc86b50>],\n",
      " 'offsetText': <matplotlib.text.Text object at 0x7fea3de307d0>,\n",
      " 'offset_text_position': u'bottom',\n",
      " 'pickradius': 15,\n",
      " 'stale_callback': <function _stale_axes_callback at 0x7fea42b7ef50>,\n",
      " 'units': None}\n"
     ]
    }
   ],
   "source": [
    "from pprint import pprint    \n",
    "\n",
    "fig, ax = plt.subplots()\n",
    "plt.close()\n",
    "axis = ax.xaxis\n",
    "props = vars(axis)\n",
    "pprint(props)"
   ]
  },
  {
   "cell_type": "markdown",
   "metadata": {
    "heading_collapsed": true
   },
   "source": [
    "# Framework with passing functions"
   ]
  },
  {
   "cell_type": "code",
   "execution_count": 179,
   "metadata": {
    "hidden": true,
    "run_control": {
     "marked": false
    }
   },
   "outputs": [
    {
     "data": {
      "text/plain": [
       "0"
      ]
     },
     "execution_count": 179,
     "metadata": {},
     "output_type": "execute_result"
    },
    {
     "data": {
      "image/png": "[encoded data removed]",
      "text/plain": [
       "<Figure size 1728x720 with 6 Axes>"
      ]
     },
     "metadata": {},
     "output_type": "display_data"
    }
   ],
   "source": [
    "Z = Toy_Data_3D()\n",
    "Plot(Z, plot_type='slices_xyz', alpha=1,  xyz=[5,5,5], aspect='equal')"
   ]
  },
  {
   "cell_type": "code",
   "execution_count": 180,
   "metadata": {
    "hidden": true
   },
   "outputs": [
    {
     "data": {
      "text/plain": [
       "0"
      ]
     },
     "execution_count": 180,
     "metadata": {},
     "output_type": "execute_result"
    },
    {
     "data": {
      "image/png": "[encoded data removed]",
      "text/plain": [
       "<Figure size 1728x720 with 6 Axes>"
      ]
     },
     "metadata": {},
     "output_type": "display_data"
    }
   ],
   "source": [
    "from lib_signal_proc import Data_Modify\n",
    "from lib_num import Derivative\n",
    "\n",
    "Z = Data_Modify(Toy_Data_3D(inhomo='full'), trace_math=Derivative)\n",
    "Plot(Z, plot_type='slices_xyz', xyz=[5,5,5], alpha=1, aspect='equal')"
   ]
  },
  {
   "cell_type": "code",
   "execution_count": 48,
   "metadata": {
    "collapsed": true,
    "hidden": true
   },
   "outputs": [],
   "source": [
    "def Model_Create(**kwargs):\n",
    "    print 'create', kwargs\n",
    "\n",
    "def Model_Modify(**kwargs):\n",
    "    print 'modify', kwargs\n",
    "\n",
    "def Project_File_Prepare(fname, modify, func_create, func_modify, **kwargs):\n",
    "    if modify:\n",
    "        func_modify(**kwargs)\n",
    "    else:\n",
    "        func_create(**kwargs)"
   ]
  },
  {
   "cell_type": "code",
   "execution_count": 53,
   "metadata": {
    "hidden": true
   },
   "outputs": [
    {
     "name": "stdout",
     "output_type": "stream",
     "text": [
      "create {'kw1': 1}\n"
     ]
    }
   ],
   "source": [
    "Project_File_Prepare('test.txt', 0, Model_Create, Model_Modify, kw1=1)"
   ]
  },
  {
   "cell_type": "code",
   "execution_count": null,
   "metadata": {
    "hidden": true
   },
   "outputs": [],
   "source": []
  },
  {
   "cell_type": "markdown",
   "metadata": {
    "heading_collapsed": true
   },
   "source": [
    "# ..."
   ]
  }
 ],
 "metadata": {
  "kernelspec": {
   "display_name": "Python 3",
   "language": "python",
   "name": "python3"
  },
  "language_info": {
   "codemirror_mode": {
    "name": "ipython",
    "version": 3
   },
   "file_extension": ".py",
   "mimetype": "text/x-python",
   "name": "python",
   "nbconvert_exporter": "python",
   "pygments_lexer": "ipython3",
   "version": "3.5.2"
  },
  "latex_envs": {
   "LaTeX_envs_menu_present": true,
   "autoclose": false,
   "autocomplete": true,
   "bibliofile": "biblio.bib",
   "cite_by": "apalike",
   "current_citInitial": 1,
   "eqLabelWithNumbers": true,
   "eqNumInitial": 1,
   "hotkeys": {
    "equation": "Ctrl-E",
    "itemize": "Ctrl-I"
   },
   "labels_anchors": false,
   "latex_user_defs": false,
   "report_style_numbering": false,
   "user_envs_cfg": false
  },
  "toc": {
   "base_numbering": 1,
   "nav_menu": {},
   "number_sections": false,
   "sideBar": false,
   "skip_h1_title": false,
   "title_cell": "Table of Contents",
   "title_sidebar": "Contents",
   "toc_cell": false,
   "toc_position": {},
   "toc_section_display": true,
   "toc_window_display": false
  }
 },
 "nbformat": 4,
 "nbformat_minor": 2
}
