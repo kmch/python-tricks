{
 "cells": [
  {
   "cell_type": "markdown",
   "metadata": {},
   "source": [
    "Useful `Python` snippets for `Jupyter`. © 2019-202` Kajetan Chrapkiewicz.\n",
    "See also: \n",
    "- `~/Dropbox/it_tricks/python`\n",
    "- https://matplotlib.org/gallery/index.html, \n",
    "- ...\n",
    "\n"
   ]
  },
  {
   "cell_type": "markdown",
   "metadata": {
    "heading_collapsed": true
   },
   "source": [
    "##### *Notebook setup"
   ]
  },
  {
   "cell_type": "code",
   "execution_count": 2,
   "metadata": {
    "hidden": true,
    "run_control": {
     "marked": true
    }
   },
   "outputs": [],
   "source": [
    "%matplotlib inline\n",
    "\n",
    "import numpy as np\n",
    "import matplotlib.pyplot as plt\n",
    "from matplotlib.gridspec import GridSpec\n",
    "import pandas as pd\n",
    "\n",
    "from fullwavepy.generic.parse import *\n",
    "from fullwavepy.ioapi.generic import read_any, ArrayFile\n",
    "from fullwavepy.plot.generic import plot, compare\n",
    "\n",
    "%load_ext autoreload\n",
    "%autoreload 2"
   ]
  },
  {
   "cell_type": "markdown",
   "metadata": {
    "heading_collapsed": true
   },
   "source": [
    "## Web scraping"
   ]
  },
  {
   "cell_type": "code",
   "execution_count": 101,
   "metadata": {
    "hidden": true
   },
   "outputs": [],
   "source": [
    "from bs4 import BeautifulSoup as bs"
   ]
  },
  {
   "cell_type": "code",
   "execution_count": 104,
   "metadata": {
    "hidden": true
   },
   "outputs": [
    {
     "data": {
      "text/plain": [
       "\" \\n<html>\\n<head>Heading</head>\\n<body attr1='val1'>\\n    <div class='container'>\\n        <div id='class'>Something here</div>\\n        <div>Something else</div>\\n    </div>\\n</body>\\n</html>\\n\""
      ]
     },
     "execution_count": 104,
     "metadata": {},
     "output_type": "execute_result"
    }
   ],
   "source": [
    "html = \"\"\" \n",
    "<html>\n",
    "<head>Heading</head>\n",
    "<body attr1='val1'>\n",
    "    <div class='container'>\n",
    "        <div id='class'>Something here</div>\n",
    "        <div>Something else</div>\n",
    "    </div>\n",
    "</body>\n",
    "</html>\n",
    "\"\"\"\n",
    "html"
   ]
  },
  {
   "cell_type": "code",
   "execution_count": 105,
   "metadata": {
    "hidden": true
   },
   "outputs": [
    {
     "name": "stdout",
     "output_type": "stream",
     "text": [
      "\n",
      "Something here\n",
      "Something else\n",
      "\n"
     ]
    }
   ],
   "source": [
    "parsed_html = bs(html)\n",
    "print(parsed_html.body.find('div', attrs={'class':'container'}).text)"
   ]
  },
  {
   "cell_type": "markdown",
   "metadata": {
    "heading_collapsed": true
   },
   "source": [
    "## Interfacing with other languages"
   ]
  },
  {
   "cell_type": "markdown",
   "metadata": {
    "heading_collapsed": true,
    "hidden": true
   },
   "source": [
    "### Matlab"
   ]
  },
  {
   "cell_type": "markdown",
   "metadata": {
    "hidden": true
   },
   "source": [
    "I don't know why path func = '/home/kmc3817/software/matlab_r2018a/MY_DOWNLOADS/phase_plots/phasepy.m' doesn't work and func = '/home/kmc3817/software/matlab_r2018a/DOWNLOADS/phase_plots/phasepy.m' does!"
   ]
  },
  {
   "cell_type": "code",
   "execution_count": 78,
   "metadata": {
    "hidden": true
   },
   "outputs": [
    {
     "name": "stderr",
     "output_type": "stream",
     "text": [
      "/home/kmc3817/.local/lib/python3.5/site-packages/IPython/nbformat.py:13: ShimWarning: The `IPython.nbformat` package has been deprecated since IPython 4.0. You should import from nbformat instead.\n",
      "  \"You should import from nbformat instead.\", ShimWarning)\n"
     ]
    }
   ],
   "source": [
    "from pymatbridge import Matlab\n",
    "mlab = Matlab() # matlab session class instance, \n",
    "# into which you will be able to inject code and variables, and query for results."
   ]
  },
  {
   "cell_type": "code",
   "execution_count": 87,
   "metadata": {
    "hidden": true
   },
   "outputs": [
    {
     "name": "stdout",
     "output_type": "stream",
     "text": [
      "Starting MATLAB on ZMQ socket ipc:///tmp/pymatbridge-236a3dcb-42d1-4270-9483-49ce120d5ed8\n",
      "Send 'exit' command to kill the server\n",
      "....MATLAB started and connected!\n"
     ]
    },
    {
     "data": {
      "text/plain": [
       "<pymatbridge.pymatbridge.Matlab at 0x7fbc90058358>"
      ]
     },
     "execution_count": 87,
     "metadata": {},
     "output_type": "execute_result"
    }
   ],
   "source": [
    "mlab.start() # this will open whatever gets called when you type matlab in your Terminal"
   ]
  },
  {
   "cell_type": "code",
   "execution_count": 83,
   "metadata": {
    "hidden": true
   },
   "outputs": [],
   "source": [
    "results = mlab.run_code('a=33')"
   ]
  },
  {
   "cell_type": "code",
   "execution_count": 81,
   "metadata": {
    "hidden": true
   },
   "outputs": [
    {
     "data": {
      "text/plain": [
       "{'content': {'datadir': '/tmp/MatlabData/',\n",
       "  'figures': [],\n",
       "  'stdout': '\\na =\\n\\n     3\\n\\n'},\n",
       " 'result': [],\n",
       " 'success': True}"
      ]
     },
     "execution_count": 81,
     "metadata": {},
     "output_type": "execute_result"
    }
   ],
   "source": [
    "results"
   ]
  },
  {
   "cell_type": "code",
   "execution_count": 84,
   "metadata": {
    "hidden": true
   },
   "outputs": [
    {
     "data": {
      "text/plain": [
       "33"
      ]
     },
     "execution_count": 84,
     "metadata": {},
     "output_type": "execute_result"
    }
   ],
   "source": [
    "mlab.get_variable('a')"
   ]
  },
  {
   "cell_type": "code",
   "execution_count": 88,
   "metadata": {
    "hidden": true
   },
   "outputs": [
    {
     "name": "stdout",
     "output_type": "stream",
     "text": [
      "5\n"
     ]
    }
   ],
   "source": [
    "path = '~/Desktop/test.m'\n",
    "res = mlab.run_func(path, {'a': 1})\n",
    "print(res['result'])"
   ]
  },
  {
   "cell_type": "code",
   "execution_count": 11,
   "metadata": {
    "hidden": true
   },
   "outputs": [
    {
     "data": {
      "text/plain": [
       "{'content': {'datadir': '/tmp/MatlabData/',\n",
       "  'figures': [],\n",
       "  'stdout': '\\na = \\n\\n  struct with fields:\\n\\n    a: 1\\n\\n'},\n",
       " 'result': 5,\n",
       " 'success': True}"
      ]
     },
     "execution_count": 11,
     "metadata": {},
     "output_type": "execute_result"
    }
   ],
   "source": [
    "res"
   ]
  },
  {
   "cell_type": "code",
   "execution_count": 85,
   "metadata": {
    "hidden": true
   },
   "outputs": [
    {
     "name": "stdout",
     "output_type": "stream",
     "text": [
      "MATLAB closed\n"
     ]
    },
    {
     "data": {
      "text/plain": [
       "True"
      ]
     },
     "execution_count": 85,
     "metadata": {},
     "output_type": "execute_result"
    }
   ],
   "source": [
    "mlab.stop() # shut down the MATLAB server"
   ]
  },
  {
   "cell_type": "markdown",
   "metadata": {
    "heading_collapsed": true,
    "hidden": true
   },
   "source": [
    "### SEG-Y"
   ]
  },
  {
   "cell_type": "markdown",
   "metadata": {
    "hidden": true
   },
   "source": [
    "#### SEGPY"
   ]
  },
  {
   "cell_type": "code",
   "execution_count": 94,
   "metadata": {
    "hidden": true
   },
   "outputs": [],
   "source": [
    "import segpy"
   ]
  },
  {
   "cell_type": "markdown",
   "metadata": {
    "hidden": true
   },
   "source": [
    "#### SEGY-IO"
   ]
  },
  {
   "cell_type": "code",
   "execution_count": 104,
   "metadata": {
    "hidden": true
   },
   "outputs": [],
   "source": [
    "import segyio"
   ]
  },
  {
   "cell_type": "code",
   "execution_count": 130,
   "metadata": {
    "hidden": true
   },
   "outputs": [
    {
     "name": "stdout",
     "output_type": "stream",
     "text": [
      "Help on package segyio:\n",
      "\n",
      "NAME\n",
      "    segyio - segyio\n",
      "\n",
      "DESCRIPTION\n",
      "    Welcome to segyio. For help, examples and reference, type ``help(function)`` in\n",
      "    your favourite python interpreter, or ``pydoc function`` in the unix console.\n",
      "    \n",
      "    The segyio library attempts to be easy to use efficently for prototyping and\n",
      "    interaction with possibly large segy files. File reading and writing is\n",
      "    streaming, with large file support out of the box and without hassle. For a\n",
      "    quick start on reading files, type ``help(segyio.open)``.\n",
      "    \n",
      "    An open segy file is interacted with in modes. For a reference with examples,\n",
      "    please type ``help(segyio.segy)``, look at the online documentation at\n",
      "    segyio.readthedocs.io, or run ``help()`` on the object returned by\n",
      "    ``segyio.open``.. For documentation on individual modes, please\n",
      "    refer to the individual modes with ``help(f.[mode])``, where ``f`` is an open\n",
      "    file handle.\n",
      "    \n",
      "    The available modes are:\n",
      "        * text, for textual headers including extended headers\n",
      "        * bin, for the binary header\n",
      "        * header, for the trace headers\n",
      "        * trace, for trace data\n",
      "        * iline, for inline biased operations\n",
      "        * xline, for crossline biased operations\n",
      "        * depth_slice, for depth biased operations\n",
      "        * gather, for gather/intersaction biased operations\n",
      "    \n",
      "    The primary data type is the numpy.ndarray. All examples use ``np`` for the\n",
      "    numpy namespace. That means that any function that returns a trace, a set of\n",
      "    samples or even full lines, returns a numpy.ndarray. This enables quick and\n",
      "    easy mathematical operations on the data you care about.\n",
      "    \n",
      "    Segyio is designed to blend into regular python code, so python concepts that\n",
      "    map to segy operations are written to behave similarly. That means that\n",
      "    sequences of data support list lookup, slicing (``f.trace[0:10:2]``), ``for x\n",
      "    in`` etc. Please refer to the individual modes' documentation for a more\n",
      "    extensive set of examples.\n",
      "    \n",
      "    For all slicing operations that segyio provides the underlying buffer is\n",
      "    reused, so if you want to keep the data between iterations it is necessary to\n",
      "    manually copy the data, e.g. ``numpy.copy()``. Please refer to the examples.\n",
      "\n",
      "PACKAGE CONTENTS\n",
      "    _segyio\n",
      "    binfield\n",
      "    create\n",
      "    depth\n",
      "    field\n",
      "    gather\n",
      "    line\n",
      "    open\n",
      "    segy\n",
      "    segysampleformat\n",
      "    su (package)\n",
      "    tools\n",
      "    trace\n",
      "    tracefield\n",
      "    tracesortingformat\n",
      "    utils\n",
      "    version\n",
      "\n",
      "CLASSES\n",
      "    builtins.object\n",
      "        Enum\n",
      "    \n",
      "    class Enum(builtins.object)\n",
      "     |  Methods defined here:\n",
      "     |  \n",
      "     |  __eq__(self, other)\n",
      "     |      Return self==value.\n",
      "     |  \n",
      "     |  __hash__(self)\n",
      "     |      Return hash(self).\n",
      "     |  \n",
      "     |  __init__(self, enum_value)\n",
      "     |      Initialize self.  See help(type(self)) for accurate signature.\n",
      "     |  \n",
      "     |  __int__(self)\n",
      "     |  \n",
      "     |  __ne__(self, other)\n",
      "     |      Return self!=value.\n",
      "     |  \n",
      "     |  __repr__(self)\n",
      "     |      Return repr(self).\n",
      "     |  \n",
      "     |  __str__(self)\n",
      "     |      Return str(self).\n",
      "     |  \n",
      "     |  ----------------------------------------------------------------------\n",
      "     |  Class methods defined here:\n",
      "     |  \n",
      "     |  enums() from builtins.type\n",
      "     |  \n",
      "     |  ----------------------------------------------------------------------\n",
      "     |  Data descriptors defined here:\n",
      "     |  \n",
      "     |  __dict__\n",
      "     |      dictionary for instance variables (if defined)\n",
      "     |  \n",
      "     |  __weakref__\n",
      "     |      list of weak references to the object (if defined)\n",
      "\n",
      "DATA\n",
      "    __copyright__ = 'Copyright 2016, Statoil ASA'\n",
      "    __license__ = 'GNU Lesser General Public License version 3'\n",
      "    __status__ = 'Production'\n",
      "\n",
      "VERSION\n",
      "    1.8.6\n",
      "\n",
      "FILE\n",
      "    /usr/local/lib/python3.5/dist-packages/segyio/__init__.py\n",
      "\n",
      "\n"
     ]
    }
   ],
   "source": [
    "help(segyio)"
   ]
  },
  {
   "cell_type": "code",
   "execution_count": 113,
   "metadata": {
    "hidden": true,
    "scrolled": true
   },
   "outputs": [
    {
     "name": "stdout",
     "output_type": "stream",
     "text": [
      "\n",
      "surange.sh: START\n",
      "\n",
      "3200+0 records in\n",
      "6+1 records out\n",
      "3200 bytes (3.2 kB, 3.1 KiB) copied, 0.00133668 s, 2.4 MB/s\n",
      "56541 traces:\n",
      "tracl    1 56541 (1 - 56541)\n",
      "tracr    1 56541 (1 - 56541)\n",
      "fldr     1 141 (1 - 141)\n",
      "tracf    1 401 (1 - 401)\n",
      "ep       1 141 (1 - 141)\n",
      "cdp      1 56541 (1 - 56541)\n",
      "cdpt     1\n",
      "trid     1\n",
      "nvs      1\n",
      "nhs      1\n",
      "duse     1\n",
      "scalel   1\n",
      "scalco   1\n",
      "sx       0 20000 (0 - 20000)\n",
      "sy       0 7000 (0 - 7000)\n",
      "gx       0 20000 (0 - 20000)\n",
      "gy       0 7000 (0 - 7000)\n",
      "counit   1\n",
      "ns       61\n",
      "dt       5000\n",
      "\n",
      "Shot coordinate limits:\n",
      "\tNorth(0,7000) South(0,0) East(20000,0) West(0,0)\n",
      "\n",
      "Receiver coordinate limits:\n",
      "\tNorth(0,7000) South(0,0) East(20000,0) West(0,0)\n",
      "\n",
      "Midpoint coordinate limits:\n",
      "\tNorth(0,7000) South(0,0) East(20000,0) West(0,0)\n",
      "\n",
      "surange.sh: END\n",
      "Runtime of the surange.sh: 1 s\n"
     ]
    }
   ],
   "source": [
    "!su_range.sh /home/kmc3817/Desktop/p12i-CP00012-Vp.sgy"
   ]
  },
  {
   "cell_type": "code",
   "execution_count": 119,
   "metadata": {
    "hidden": true
   },
   "outputs": [],
   "source": [
    "from segyio import cube\n",
    "# Z = cube(fname)"
   ]
  },
  {
   "cell_type": "code",
   "execution_count": 135,
   "metadata": {
    "hidden": true
   },
   "outputs": [
    {
     "name": "stdout",
     "output_type": "stream",
     "text": [
      "{JobID: 1, TraceFlag: 1, LineNumber: 1, ReelNumber: 1, Traces: 1, AuxTraces: 0, Interval: 5000, IntervalOriginal: 5000, Samples: 61, SamplesOriginal: 61, Format: 5, EnsembleFold: 1, SortingCode: 1, ExtendedHeaders: 0, VerticalSum: 0, SweepFrequencyStart: 0, SweepFrequencyEnd: 0, SweepLength: 0, SEGYRevision: 100, Sweep: 0, SweepChannel: 0, SweepTaperStart: 0, SweepTaperEnd: 0, Taper: 0, CorrelatedTraces: 0, BinaryGainRecovery: 0, AmplitudeRecovery: 0, MeasurementSystem: 1, ImpulseSignalPolarity: 0, VibratoryPolarity: 0}\n",
      "1\n"
     ]
    }
   ],
   "source": [
    "fname = '/home/kmc3817/Desktop/p12i-CP00012-Vp.sgy'\n",
    "with segyio.open(fname, 'r', ignore_geometry=1) as f:\n",
    "    ntr = f.tracecount\n",
    "    print(f.bin)\n",
    "    print(f.bin[segyio.BinField.Traces])    \n",
    "    # Get basic attributes\n",
    "    #ntr = f.tracecount\n",
    "    #fs = segyio.tools.dt(f) / 1000 # Hz?\n",
    "    #ns = f.samples.size\n",
    "    #twt = f.samples\n",
    "    \n",
    "    #for k in f.header:\n",
    "      #print(k)\n",
    "#     h = f.header\n",
    "#     h = f.bin\n",
    "# #     print(type(h))\n",
    "# #     print(dir(h))\n",
    "# #     print(h.xline)\n",
    "#     for key in h:\n",
    "#         print(key, h[key])\n",
    "#     for key in h[0]:\n",
    "#         print(key, h[0][key])\n",
    "    #print(f.header)\n",
    "    #print(f.bin)\n",
    "    #print(f.bin[segyio.BinField.Traces])    \n",
    "    Z = f.trace.raw[:]   \n",
    "\n",
    "# print(Z.shape)"
   ]
  },
  {
   "cell_type": "code",
   "execution_count": 101,
   "metadata": {
    "hidden": true
   },
   "outputs": [],
   "source": [
    "\n",
    "\n",
    "spec = segyio.spec()\n",
    "spec.ilines  = [1, 2, 3, 4]\n",
    "spec.xlines  = [11, 12, 13]\n",
    "spec.samples = list(range(50))\n",
    "# spec.sorting = 2\n",
    "spec.format  = 5\n",
    "with segyio.create('test.sgy', spec) as f:\n",
    "    ## fill the file with data\n",
    "    pass\n",
    "# path = '/media/kmc3817/RDS/home/PhD/PROJECTS/fwi_sant_AIT_OBS/input/'\n",
    "# fname = path + 'proj8-OutSeis_4188_9.sgy'\n",
    "# with segyio.open(fname, \"r\") as f:\n",
    "#     for trace in f.trace:\n",
    "#         print(len(trace))"
   ]
  },
  {
   "cell_type": "code",
   "execution_count": 102,
   "metadata": {
    "hidden": true
   },
   "outputs": [
    {
     "name": "stdout",
     "output_type": "stream",
     "text": [
      "\r\n",
      "surange.sh: START\r\n",
      "\r\n",
      "3200+0 records in\r\n",
      "6+1 records out\r\n",
      "3200 bytes (3.2 kB, 3.1 KiB) copied, 0.00144838 s, 2.2 MB/s\r\n",
      "\r\n",
      "surange: can't get first trace\r\n",
      "\r\n",
      "surange.sh: END\r\n",
      "Runtime of the surange.sh: 0 s\r\n"
     ]
    }
   ],
   "source": [
    "!su_range.sh test.sgy"
   ]
  },
  {
   "cell_type": "markdown",
   "metadata": {
    "heading_collapsed": true
   },
   "source": [
    "## ..."
   ]
  }
 ],
 "metadata": {
  "kernelspec": {
   "display_name": "Python 3",
   "language": "python",
   "name": "python3"
  },
  "language_info": {
   "codemirror_mode": {
    "name": "ipython",
    "version": 3
   },
   "file_extension": ".py",
   "mimetype": "text/x-python",
   "name": "python",
   "nbconvert_exporter": "python",
   "pygments_lexer": "ipython3",
   "version": "3.5.2"
  },
  "latex_envs": {
   "LaTeX_envs_menu_present": true,
   "autoclose": false,
   "autocomplete": true,
   "bibliofile": "biblio.bib",
   "cite_by": "apalike",
   "current_citInitial": 1,
   "eqLabelWithNumbers": true,
   "eqNumInitial": 1,
   "hotkeys": {
    "equation": "Ctrl-E",
    "itemize": "Ctrl-I"
   },
   "labels_anchors": false,
   "latex_user_defs": false,
   "report_style_numbering": false,
   "user_envs_cfg": false
  },
  "toc": {
   "base_numbering": 1,
   "nav_menu": {},
   "number_sections": false,
   "sideBar": true,
   "skip_h1_title": false,
   "title_cell": "Table of Contents",
   "title_sidebar": "Contents",
   "toc_cell": false,
   "toc_position": {
    "height": "calc(100% - 180px)",
    "left": "10px",
    "top": "150px",
    "width": "348.483px"
   },
   "toc_section_display": true,
   "toc_window_display": false
  }
 },
 "nbformat": 4,
 "nbformat_minor": 2
}
